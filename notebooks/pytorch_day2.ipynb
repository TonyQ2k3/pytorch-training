{
  "cells": [
    {
      "cell_type": "markdown",
      "metadata": {
        "id": "view-in-github",
        "colab_type": "text"
      },
      "source": [
        "<a href=\"https://colab.research.google.com/github/TonyQ2k3/pytorch-training/blob/main/notebooks/pytorch_day1.ipynb\" target=\"_parent\"><img src=\"https://colab.research.google.com/assets/colab-badge.svg\" alt=\"Open In Colab\"/></a>"
      ]
    },
    {
      "cell_type": "markdown",
      "id": "a9e34dbb-9155-489b-936f-1ef15371b681",
      "metadata": {
        "id": "a9e34dbb-9155-489b-936f-1ef15371b681"
      },
      "source": [
        "## What is Pytorch?"
      ]
    },
    {
      "cell_type": "markdown",
      "id": "939238e1-ac84-4a5a-a776-4f0ebc32f7a9",
      "metadata": {
        "id": "939238e1-ac84-4a5a-a776-4f0ebc32f7a9"
      },
      "source": [
        "Pytorch is an open-source machine learning library for Python. It's primarily used for deep learning and other AI-related field.\n",
        "\n",
        "Some key features of Pytorch includes:\n",
        "+ Efficient GPU integration\n",
        "+ Optimized tensor computation library"
      ]
    },
    {
      "cell_type": "code",
      "source": [
        "import torch\n",
        "import numpy as np\n",
        "import pandas as pd\n",
        "import matplotlib.pyplot as plt\n",
        "\n",
        "print(torch.__version__)"
      ],
      "metadata": {
        "colab": {
          "base_uri": "https://localhost:8080/"
        },
        "id": "TwqJUI_lxcPx",
        "outputId": "4bee050c-e472-4793-be15-745acf2b9dbf"
      },
      "id": "TwqJUI_lxcPx",
      "execution_count": 1,
      "outputs": [
        {
          "output_type": "stream",
          "name": "stdout",
          "text": [
            "2.3.1+cu121\n"
          ]
        }
      ]
    },
    {
      "cell_type": "markdown",
      "id": "dccdc665-4af6-45c5-9c77-910137b98f86",
      "metadata": {
        "id": "dccdc665-4af6-45c5-9c77-910137b98f86"
      },
      "source": [
        "## What is a Tensor?"
      ]
    },
    {
      "cell_type": "markdown",
      "id": "fde48dfc-56be-4ba8-b3b8-93028d3c3602",
      "metadata": {
        "id": "fde48dfc-56be-4ba8-b3b8-93028d3c3602"
      },
      "source": [
        "A tensor is a generalization of vectors and matrices. It's basically 1-to-n dimension array.\n",
        "\n",
        "Tensors can be created using `torch.tensor()`"
      ]
    },
    {
      "cell_type": "code",
      "source": [
        "tensor1 = torch.tensor([1, 2, 3])\n",
        "tensor1 = tensor1.reshape((3, 1))\n",
        "print(tensor1)"
      ],
      "metadata": {
        "colab": {
          "base_uri": "https://localhost:8080/"
        },
        "id": "RY9xNsdkw2Gl",
        "outputId": "d641580d-307c-4239-ec0b-5879978f276c"
      },
      "id": "RY9xNsdkw2Gl",
      "execution_count": null,
      "outputs": [
        {
          "output_type": "stream",
          "name": "stdout",
          "text": [
            "tensor([[1],\n",
            "        [2],\n",
            "        [3]])\n"
          ]
        }
      ]
    },
    {
      "cell_type": "code",
      "source": [
        "tensor1 = torch.tensor([1, 2, 3, 4, 5, 6])\n",
        "tensor1 = tensor1.reshape((2, 3))\n",
        "print(tensor1)"
      ],
      "metadata": {
        "id": "1z7JJm-pyY2v"
      },
      "id": "1z7JJm-pyY2v",
      "execution_count": null,
      "outputs": []
    },
    {
      "cell_type": "markdown",
      "source": [
        "## Random tensors\n",
        "Generating tensors by hand is inefficient, that's why we create tensors of random values. The model will look into the data and update it to represent the data better later on.\n",
        "\n",
        "As a ML engineer, you will decide how the model starts it's tensor (initialization), looks into data (representation) and updates tensor (optimize)."
      ],
      "metadata": {
        "id": "wGLVa97B26dA"
      },
      "id": "wGLVa97B26dA"
    },
    {
      "cell_type": "code",
      "source": [
        "# Generate a random tensor\n",
        "tensor = torch.rand(3, 3)\n",
        "tensor"
      ],
      "metadata": {
        "id": "r1rwlFfy4ERL",
        "colab": {
          "base_uri": "https://localhost:8080/"
        },
        "outputId": "b8023f4b-8590-4872-ac15-1b137981cf57"
      },
      "id": "r1rwlFfy4ERL",
      "execution_count": null,
      "outputs": [
        {
          "output_type": "execute_result",
          "data": {
            "text/plain": [
              "tensor([[0.7908, 0.6044, 0.6083],\n",
              "        [0.1823, 0.0200, 0.2399],\n",
              "        [0.6781, 0.4277, 0.5878]])"
            ]
          },
          "metadata": {},
          "execution_count": 2
        }
      ]
    },
    {
      "cell_type": "code",
      "source": [
        "# Generate 3D tensor\n",
        "tensor = torch.rand(3, 3, 3)\n",
        "tensor"
      ],
      "metadata": {
        "id": "PSkaChcn4ZaA"
      },
      "id": "PSkaChcn4ZaA",
      "execution_count": null,
      "outputs": []
    },
    {
      "cell_type": "code",
      "source": [
        "# Generate random int tensor\n",
        "tensor = torch.randint(0, 100, size=(3, 3))\n",
        "tensor"
      ],
      "metadata": {
        "id": "xtIlFCBZ4QXw"
      },
      "id": "xtIlFCBZ4QXw",
      "execution_count": null,
      "outputs": []
    },
    {
      "cell_type": "markdown",
      "source": [
        "## Zeros and ones tensor"
      ],
      "metadata": {
        "id": "VUQU_7hI7-pJ"
      },
      "id": "VUQU_7hI7-pJ"
    },
    {
      "cell_type": "code",
      "source": [
        "# Generate tensor of zeros\n",
        "tensor = torch.zeros(size=(3, 3, 3), dtype=torch.int32)\n",
        "tensor"
      ],
      "metadata": {
        "id": "qZReXlXs8GHl"
      },
      "id": "qZReXlXs8GHl",
      "execution_count": null,
      "outputs": []
    },
    {
      "cell_type": "code",
      "source": [
        "# Generate tensor of ones\n",
        "tensor = torch.ones(size=(3, 3), dtype=torch.int32)\n",
        "tensor"
      ],
      "metadata": {
        "id": "DZA_YaSi8ZA4"
      },
      "id": "DZA_YaSi8ZA4",
      "execution_count": null,
      "outputs": []
    },
    {
      "cell_type": "code",
      "source": [
        "tensor = torch.arange(1, 101, 1)\n",
        "tensor = tensor.reshape((10, 10))\n",
        "tensor"
      ],
      "metadata": {
        "id": "XaCLJzFF8qyT",
        "colab": {
          "base_uri": "https://localhost:8080/"
        },
        "outputId": "0136da41-bdbb-4102-d67e-c3f5b7c46ef6"
      },
      "id": "XaCLJzFF8qyT",
      "execution_count": null,
      "outputs": [
        {
          "output_type": "execute_result",
          "data": {
            "text/plain": [
              "tensor([[  1,   2,   3,   4,   5,   6,   7,   8,   9,  10],\n",
              "        [ 11,  12,  13,  14,  15,  16,  17,  18,  19,  20],\n",
              "        [ 21,  22,  23,  24,  25,  26,  27,  28,  29,  30],\n",
              "        [ 31,  32,  33,  34,  35,  36,  37,  38,  39,  40],\n",
              "        [ 41,  42,  43,  44,  45,  46,  47,  48,  49,  50],\n",
              "        [ 51,  52,  53,  54,  55,  56,  57,  58,  59,  60],\n",
              "        [ 61,  62,  63,  64,  65,  66,  67,  68,  69,  70],\n",
              "        [ 71,  72,  73,  74,  75,  76,  77,  78,  79,  80],\n",
              "        [ 81,  82,  83,  84,  85,  86,  87,  88,  89,  90],\n",
              "        [ 91,  92,  93,  94,  95,  96,  97,  98,  99, 100]])"
            ]
          },
          "metadata": {},
          "execution_count": 3
        }
      ]
    },
    {
      "cell_type": "code",
      "source": [
        "from google.colab import drive\n",
        "drive.mount('/content/drive')"
      ],
      "metadata": {
        "colab": {
          "base_uri": "https://localhost:8080/"
        },
        "id": "EgyZkicJigFi",
        "outputId": "d4c0803c-51a1-4c15-e16c-8e79f44537c3"
      },
      "id": "EgyZkicJigFi",
      "execution_count": null,
      "outputs": [
        {
          "output_type": "stream",
          "name": "stdout",
          "text": [
            "Mounted at /content/drive\n"
          ]
        }
      ]
    },
    {
      "cell_type": "markdown",
      "source": [
        "## Extracting information from a tensor\n",
        "+ Get data types from tensors: `tensor.dtype`\n",
        "+ Get tensor shape: `tensor.shape`\n",
        "+ Get tensor device; `tensor.device`\n",
        "\n",
        "\n"
      ],
      "metadata": {
        "id": "kjFFIn5PJVBA"
      },
      "id": "kjFFIn5PJVBA"
    },
    {
      "cell_type": "markdown",
      "source": [
        "## Tensor operations"
      ],
      "metadata": {
        "id": "NZIzXUqhKUyG"
      },
      "id": "NZIzXUqhKUyG"
    },
    {
      "cell_type": "code",
      "source": [
        "tensor_a = torch.tensor([1, 2, 3])\n",
        "tensor_b = torch.tensor([4, 5, 6]).reshape((3, 1))\n",
        "\n",
        "multiply = torch.matmul(tensor_a, tensor_b)\n",
        "multiply"
      ],
      "metadata": {
        "id": "_IwDlS0IK3b6",
        "outputId": "798d07d7-0218-48e7-90c9-bc9ec14e4b5d",
        "colab": {
          "base_uri": "https://localhost:8080/"
        }
      },
      "id": "_IwDlS0IK3b6",
      "execution_count": null,
      "outputs": [
        {
          "output_type": "execute_result",
          "data": {
            "text/plain": [
              "tensor([32])"
            ]
          },
          "metadata": {},
          "execution_count": 6
        }
      ]
    },
    {
      "cell_type": "markdown",
      "source": [
        "## Tensor min, max, aggregation"
      ],
      "metadata": {
        "id": "UvzEGuhuLag2"
      },
      "id": "UvzEGuhuLag2"
    },
    {
      "cell_type": "code",
      "source": [
        "tensor = torch.randint(low=0, high=100, size=(20,))\n",
        "print(\"Tensor: \", tensor)\n",
        "print(\"Max value\", tensor.max())\n",
        "print(\"Max value index\", tensor.argmax())\n",
        "print(\"Min value\", tensor.min())\n",
        "print(\"Min value index\", tensor.argmin())"
      ],
      "metadata": {
        "id": "YyCpLxs2R5HG",
        "outputId": "20b52643-ce02-42fe-f447-8e1e9be1fa88",
        "colab": {
          "base_uri": "https://localhost:8080/"
        }
      },
      "id": "YyCpLxs2R5HG",
      "execution_count": null,
      "outputs": [
        {
          "output_type": "stream",
          "name": "stdout",
          "text": [
            "Tensor:  tensor([72,  4, 17, 64, 28, 78, 31, 32, 26, 25, 88,  0,  9,  4, 88, 10,  4, 94,\n",
            "        18, 97])\n",
            "Max value tensor(97)\n",
            "Max value index tensor(19)\n",
            "Min value tensor(0)\n",
            "Min value index tensor(11)\n"
          ]
        }
      ]
    },
    {
      "cell_type": "code",
      "source": [
        "print(\"Mean value\", torch.mean(tensor, dtype=torch.float32))"
      ],
      "metadata": {
        "id": "6OgjJ_yHSb6d",
        "outputId": "6ed075a7-d481-4cfa-90b9-f5ffb029bbb0",
        "colab": {
          "base_uri": "https://localhost:8080/"
        }
      },
      "id": "6OgjJ_yHSb6d",
      "execution_count": null,
      "outputs": [
        {
          "output_type": "stream",
          "name": "stdout",
          "text": [
            "Mean value tensor(46.1000)\n"
          ]
        }
      ]
    },
    {
      "cell_type": "code",
      "source": [
        "print(\"Sum value\", torch.sum(tensor))"
      ],
      "metadata": {
        "id": "oQ1yGD94ed2V",
        "outputId": "1b06c483-ffa5-47f3-8e27-9985571c2b13",
        "colab": {
          "base_uri": "https://localhost:8080/"
        }
      },
      "id": "oQ1yGD94ed2V",
      "execution_count": null,
      "outputs": [
        {
          "output_type": "stream",
          "name": "stdout",
          "text": [
            "Sum value tensor(922)\n"
          ]
        }
      ]
    },
    {
      "cell_type": "markdown",
      "source": [
        "## Stacking tensors"
      ],
      "metadata": {
        "id": "GfnxEwooe6fT"
      },
      "id": "GfnxEwooe6fT"
    },
    {
      "cell_type": "code",
      "source": [
        "tensor_a = torch.randint(1, 100, (3, 3))\n",
        "tensor_b = torch.randint(1, 100, (3, 3))\n",
        "print(\"Tensor A: \", tensor_a)\n",
        "print(\"Tensor B: \", tensor_b)\n",
        "\n",
        "tensor_c = torch.vstack((tensor_a, tensor_b))\n",
        "tensor_d = torch.hstack((tensor_a, tensor_b))\n",
        "print(\"Tensor C: \", tensor_c)\n",
        "print(\"Tensor D: \", tensor_d)\n"
      ],
      "metadata": {
        "id": "cV8ueuAlsLwE",
        "outputId": "60bca88b-6560-4bc0-c106-938d5cd1f67d",
        "colab": {
          "base_uri": "https://localhost:8080/"
        }
      },
      "id": "cV8ueuAlsLwE",
      "execution_count": 5,
      "outputs": [
        {
          "output_type": "stream",
          "name": "stdout",
          "text": [
            "Tensor A:  tensor([[75, 82, 45],\n",
            "        [55, 26, 24],\n",
            "        [78, 67, 83]])\n",
            "Tensor B:  tensor([[87, 27, 55],\n",
            "        [74, 34, 41],\n",
            "        [59,  2, 33]])\n",
            "Tensor C:  tensor([[75, 82, 45],\n",
            "        [55, 26, 24],\n",
            "        [78, 67, 83],\n",
            "        [87, 27, 55],\n",
            "        [74, 34, 41],\n",
            "        [59,  2, 33]])\n",
            "Tensor D:  tensor([[75, 82, 45, 87, 27, 55],\n",
            "        [55, 26, 24, 74, 34, 41],\n",
            "        [78, 67, 83, 59,  2, 33]])\n"
          ]
        }
      ]
    },
    {
      "cell_type": "code",
      "source": [
        "tensor = torch.arange(0, 10)\n",
        "tensor = torch.stack([tensor, tensor, tensor], dim=0) # Dim = 0 -> vertical stack\n",
        "tensor"
      ],
      "metadata": {
        "id": "9bkwmE58s08t",
        "outputId": "ae252df5-d373-457c-bf9c-45324be11d19",
        "colab": {
          "base_uri": "https://localhost:8080/"
        }
      },
      "id": "9bkwmE58s08t",
      "execution_count": 8,
      "outputs": [
        {
          "output_type": "execute_result",
          "data": {
            "text/plain": [
              "tensor([[0, 1, 2, 3, 4, 5, 6, 7, 8, 9],\n",
              "        [0, 1, 2, 3, 4, 5, 6, 7, 8, 9],\n",
              "        [0, 1, 2, 3, 4, 5, 6, 7, 8, 9]])"
            ]
          },
          "metadata": {},
          "execution_count": 8
        }
      ]
    },
    {
      "cell_type": "markdown",
      "source": [
        "## Squeeze and unsqueeze tensor"
      ],
      "metadata": {
        "id": "EvIn8jvCuSwD"
      },
      "id": "EvIn8jvCuSwD"
    },
    {
      "cell_type": "code",
      "source": [
        "tensor = torch.arange(0, 10)\n",
        "squeezed = tensor.squeeze()\n",
        "unsqueezed = squeezed.unsqueeze(dim=0)\n",
        "print(f\"UnSqueezed tensor: {unsqueezed}\")\n",
        "print(f\"Squeezed tensor: {squeezed}\")\n",
        "unsqueezed = squeezed.unsqueeze(dim=1)\n",
        "print(f\"UnSqueezed tensor: {unsqueezed}\")"
      ],
      "metadata": {
        "id": "iGR22SsnyoIf",
        "outputId": "937f2678-faf4-47fa-f3d5-056b3cd14ede",
        "colab": {
          "base_uri": "https://localhost:8080/"
        }
      },
      "id": "iGR22SsnyoIf",
      "execution_count": 10,
      "outputs": [
        {
          "output_type": "stream",
          "name": "stdout",
          "text": [
            "UnSqueezed tensor: tensor([[0, 1, 2, 3, 4, 5, 6, 7, 8, 9]])\n",
            "Squeezed tensor: tensor([0, 1, 2, 3, 4, 5, 6, 7, 8, 9])\n",
            "UnSqueezed tensor: tensor([[0],\n",
            "        [1],\n",
            "        [2],\n",
            "        [3],\n",
            "        [4],\n",
            "        [5],\n",
            "        [6],\n",
            "        [7],\n",
            "        [8],\n",
            "        [9]])\n"
          ]
        }
      ]
    },
    {
      "cell_type": "markdown",
      "source": [
        "## Tensor permutation"
      ],
      "metadata": {
        "id": "-rGfdPytzKvZ"
      },
      "id": "-rGfdPytzKvZ"
    },
    {
      "cell_type": "code",
      "source": [
        "tensor = torch.randint(0, 100, (3, 4, 5))\n",
        "print(f\"Original tensor: {tensor}\")\n",
        "print(f\"Original shape: {tensor.shape}\")\n",
        "permuted_tensor = tensor.permute(dims=(2, 0, 1)) # Shape becomes (5, 3, 4)\n",
        "print(f\"Original tensor: {permuted_tensor}\")\n",
        "print(f\"Original shape: {permuted_tensor.shape}\")"
      ],
      "metadata": {
        "id": "6TRWlK-A04th",
        "outputId": "42037aab-93ae-4b86-9326-d4e595be3155",
        "colab": {
          "base_uri": "https://localhost:8080/"
        }
      },
      "id": "6TRWlK-A04th",
      "execution_count": 12,
      "outputs": [
        {
          "output_type": "stream",
          "name": "stdout",
          "text": [
            "Original tensor: tensor([[[89, 73, 17,  0, 61],\n",
            "         [ 2, 47, 38, 97, 25],\n",
            "         [42, 66, 83, 82, 75],\n",
            "         [36,  7, 37, 53, 96]],\n",
            "\n",
            "        [[60, 49, 39, 64, 45],\n",
            "         [62,  5, 32, 18, 43],\n",
            "         [24, 52,  3,  0, 65],\n",
            "         [87,  2, 68, 37, 92]],\n",
            "\n",
            "        [[98, 20, 69, 81, 90],\n",
            "         [10, 19, 67, 56, 43],\n",
            "         [80, 47, 23, 72, 13],\n",
            "         [63,  2, 62, 87, 12]]])\n",
            "Original shape: torch.Size([3, 4, 5])\n",
            "Original tensor: tensor([[[89,  2, 42, 36],\n",
            "         [60, 62, 24, 87],\n",
            "         [98, 10, 80, 63]],\n",
            "\n",
            "        [[73, 47, 66,  7],\n",
            "         [49,  5, 52,  2],\n",
            "         [20, 19, 47,  2]],\n",
            "\n",
            "        [[17, 38, 83, 37],\n",
            "         [39, 32,  3, 68],\n",
            "         [69, 67, 23, 62]],\n",
            "\n",
            "        [[ 0, 97, 82, 53],\n",
            "         [64, 18,  0, 37],\n",
            "         [81, 56, 72, 87]],\n",
            "\n",
            "        [[61, 25, 75, 96],\n",
            "         [45, 43, 65, 92],\n",
            "         [90, 43, 13, 12]]])\n",
            "Original shape: torch.Size([5, 3, 4])\n"
          ]
        }
      ]
    },
    {
      "cell_type": "code",
      "source": [],
      "metadata": {
        "id": "pVJ0q2cC1XW-"
      },
      "id": "pVJ0q2cC1XW-",
      "execution_count": null,
      "outputs": []
    }
  ],
  "metadata": {
    "kernelspec": {
      "display_name": "Python 3",
      "name": "python3"
    },
    "language_info": {
      "codemirror_mode": {
        "name": "ipython",
        "version": 3
      },
      "file_extension": ".py",
      "mimetype": "text/x-python",
      "name": "python",
      "nbconvert_exporter": "python",
      "pygments_lexer": "ipython3",
      "version": "3.9.12"
    },
    "colab": {
      "provenance": [],
      "include_colab_link": true
    }
  },
  "nbformat": 4,
  "nbformat_minor": 5
}