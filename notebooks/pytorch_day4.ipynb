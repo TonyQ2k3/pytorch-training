{
  "cells": [
    {
      "cell_type": "markdown",
      "metadata": {
        "id": "view-in-github",
        "colab_type": "text"
      },
      "source": [
        "<a href=\"https://colab.research.google.com/github/TonyQ2k3/pytorch-training/blob/main/notebooks/pytorch_day4.ipynb\" target=\"_parent\"><img src=\"https://colab.research.google.com/assets/colab-badge.svg\" alt=\"Open In Colab\"/></a>"
      ]
    },
    {
      "cell_type": "markdown",
      "metadata": {
        "id": "BgAcpl598yWQ"
      },
      "source": [
        "# Pytorch Day 4\n",
        "---"
      ]
    },
    {
      "cell_type": "markdown",
      "metadata": {
        "id": "bSuURnKX8yWT"
      },
      "source": [
        "## Machine Learning Classification"
      ]
    },
    {
      "cell_type": "markdown",
      "source": [
        "### Binary vs Multi-class"
      ],
      "metadata": {
        "id": "MLzcPrJq9QnM"
      }
    },
    {
      "cell_type": "markdown",
      "source": [
        "**Binary classification**\n",
        "+ Involves classification between 2 classes: Yes/No or Positive/Negative\n",
        "+ Used in single object detection, ie. Spam/Not Spam, Cancer/Not Cancer\n",
        "\n",
        "**Multi-class classification**\n",
        "+ More than 2 classes, represented by integers starting from 0.\n",
        "+ Output is a vector of probabilities for each class, with the sum of the vector being 1 (100%)."
      ],
      "metadata": {
        "id": "HPJSW_g0AkAN"
      }
    },
    {
      "cell_type": "markdown",
      "source": [
        "### Inputs and Outputs"
      ],
      "metadata": {
        "id": "tv4KyR5-CDrM"
      }
    },
    {
      "cell_type": "markdown",
      "source": [
        "**Input**\n",
        "+ Data represented as a multi-dimension tensor.\n",
        "+ For image classification, input will be a tensor of shape 224 x 224 x 3.\n",
        "\n",
        "**Output**\n",
        "+ A list of bounding boxes, each box is a tuple of `(x_coord, y_coord, width, height, confidence)` representing the coordinate, size and confidence of detected class."
      ],
      "metadata": {
        "id": "sWd4osw7DFJN"
      }
    },
    {
      "cell_type": "markdown",
      "source": [
        "### Architecture of Classification Neural Network"
      ],
      "metadata": {
        "id": "V02XWi0_FQze"
      }
    },
    {
      "cell_type": "markdown",
      "source": [
        "**Binary Classification**\n",
        "1. Input layer's shape: == number of features\n",
        "2. Output layer's shape: *1*\n",
        "3. Hidden layers: 1 - unlimited\n",
        "4. Neurons per hidden layer: 10-512\n",
        "5. Hidden layer activation: ReLU\n",
        "6. Output layer activation: Sigmoid\n",
        "7. Loss function: *Binary Cross-entropy (BCE)*\n",
        "8. Optimizer: SGD, Adam\n",
        "\n",
        "**Multi-class**\n",
        "1. Input layer's shape: == number of features\n",
        "2. Output layer's shape: *== number of classes*\n",
        "3. Hidden layers: 1 - unlimited\n",
        "4. Neuron per layers: 10-512\n",
        "5. Hidden layer activation: ReLU\n",
        "6. Loss function: *Cross-entropy*\n",
        "7. Optimizer: SGD, Adam"
      ],
      "metadata": {
        "id": "LCMObFrrHzDd"
      }
    },
    {
      "cell_type": "code",
      "source": [],
      "metadata": {
        "id": "ja7xMk_wVBsC"
      },
      "execution_count": null,
      "outputs": []
    }
  ],
  "metadata": {
    "language_info": {
      "name": "python"
    },
    "colab": {
      "provenance": [],
      "toc_visible": true,
      "include_colab_link": true
    }
  },
  "nbformat": 4,
  "nbformat_minor": 0
}