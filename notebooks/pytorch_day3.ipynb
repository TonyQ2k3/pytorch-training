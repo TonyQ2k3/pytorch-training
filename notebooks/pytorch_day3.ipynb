{
  "cells": [
    {
      "cell_type": "markdown",
      "metadata": {
        "id": "view-in-github",
        "colab_type": "text"
      },
      "source": [
        "<a href=\"https://colab.research.google.com/github/TonyQ2k3/pytorch-training/blob/main/notebooks/pytorch_day3.ipynb\" target=\"_parent\"><img src=\"https://colab.research.google.com/assets/colab-badge.svg\" alt=\"Open In Colab\"/></a>"
      ]
    },
    {
      "cell_type": "markdown",
      "metadata": {
        "id": "W7kfswOCmw-7"
      },
      "source": [
        "# Pytorch Day 3"
      ]
    },
    {
      "cell_type": "markdown",
      "metadata": {
        "id": "1FSea22Amw-8"
      },
      "source": [
        "---"
      ]
    },
    {
      "cell_type": "code",
      "source": [
        "# Imports\n",
        "import torch\n",
        "from torch import nn\n",
        "import matplotlib.pyplot as plt"
      ],
      "metadata": {
        "id": "NkAVw43tmx9C"
      },
      "execution_count": 1,
      "outputs": []
    },
    {
      "cell_type": "markdown",
      "metadata": {
        "id": "6L3ewSkzmw-9"
      },
      "source": []
    },
    {
      "cell_type": "markdown",
      "source": [
        "## Model Testing Loop"
      ],
      "metadata": {
        "id": "4hvvPEzb0yUx"
      }
    },
    {
      "cell_type": "code",
      "source": [
        "# Model creation and train code\n",
        "weight = 0.7\n",
        "bias = 0.3\n",
        "x = torch.arange(0, 1, 0.02, dtype=torch.float)\n",
        "y = weight * x + bias\n",
        "\n",
        "split_index = int(0.8 * len(x))\n",
        "x_train, y_train = x[:split_index], y[:split_index]\n",
        "x_test, y_test = x[split_index:], y[split_index:]\n",
        "\n",
        "def plot_visual(\n",
        "    train_data=x_train,\n",
        "    train_labels=y_train,\n",
        "    test_data=x_test,\n",
        "    test_labels=y_test,\n",
        "    predictions=None\n",
        "):\n",
        "  plt.figure((10, 7))\n",
        "  plt.title(\"Dataset visualization\")\n",
        "  plt.scatter(x_train, y_train, s=4, c='b', label=\"Train\")\n",
        "  plt.scatter(x_test, y_test, s=4, c='g', label=\"Test\")\n",
        "  if predictions is not None:\n",
        "    plt.scatter(x_test, predictions, s=4, c='r', label=\"Prediction\")\n",
        "  plt.legend(prop={\"size\": 4})\n",
        "  plt.show()\n",
        "\n",
        "\n",
        "class LinearRegressionModel(nn.Module):\n",
        "    def __init__(self):\n",
        "      super().__init__()\n",
        "      self.weight = nn.Parameter(torch.randn(1, requires_grad=True, dtype=torch.float))\n",
        "      self.bias = nn.Parameter(torch.randn(1, requires_grad=True, dtype=torch.float))\n",
        "\n",
        "    def forward(self, x: torch.Tensor) -> torch.Tensor:\n",
        "      return self.weight * x + self.bias\n",
        "\n"
      ],
      "metadata": {
        "id": "Uz98ORu2012k"
      },
      "execution_count": 2,
      "outputs": []
    },
    {
      "cell_type": "code",
      "source": [
        "# Create model\n",
        "torch.manual_seed(42)\n",
        "model = LinearRegressionModel()\n",
        "\n",
        "# Define LF, OP and EP\n",
        "loss_fn = nn.L1Loss()\n",
        "optimizer = torch.optim.SGD(params=model.parameters(), lr=0.01)\n",
        "epochs = 100"
      ],
      "metadata": {
        "id": "1IMSeZSC9uNp"
      },
      "execution_count": 5,
      "outputs": []
    },
    {
      "cell_type": "markdown",
      "source": [
        "### Create loss map for visualization"
      ],
      "metadata": {
        "id": "TeevjN4FXsrP"
      }
    },
    {
      "cell_type": "markdown",
      "source": [
        "For the testing loop, first we need to create some empty lists for storing useful values.\n",
        "\n",
        "We then put the model into evaluation mode with `model.eval()`. The evaluation process is similar to that of training, except we calculate the loss between **the prediction labels and the test labels**"
      ],
      "metadata": {
        "id": "OysEgD766Bh5"
      }
    },
    {
      "cell_type": "code",
      "source": [
        "# Losses list\n",
        "train_losses = []\n",
        "test_losses = []\n",
        "epoch_count = torch.arange(0, epochs, 10, dtype=torch.int)"
      ],
      "metadata": {
        "id": "WZWmJmmR9eh1"
      },
      "execution_count": 10,
      "outputs": []
    },
    {
      "cell_type": "code",
      "source": [
        "# Train function\n",
        "def train_model():\n",
        "  for epoch in range(epochs):\n",
        "    model.train()\n",
        "    y_pred = model(x_train)\n",
        "    loss = loss_fn(y_pred, y_train)\n",
        "\n",
        "\n",
        "    if epoch % 10 == 0:\n",
        "      # Add training loss to list\n",
        "      train_losses.append(loss.item())\n",
        "      print(f\"Epoch: {epoch} | Loss: {loss}\")\n",
        "\n",
        "    optimizer.zero_grad()\n",
        "    loss.backward()\n",
        "    optimizer.step()\n",
        "\n",
        "# Start training\n",
        "train_model()"
      ],
      "metadata": {
        "id": "cyXDq4lJ5XDB",
        "outputId": "c4c08cca-8715-4665-ce8b-a6a1a9e02bbd",
        "colab": {
          "base_uri": "https://localhost:8080/"
        }
      },
      "execution_count": 11,
      "outputs": [
        {
          "output_type": "stream",
          "name": "stdout",
          "text": [
            "Epoch: 0 | Loss: 0.024458957836031914\n",
            "Epoch: 10 | Loss: 0.021020207554101944\n",
            "Epoch: 20 | Loss: 0.01758546568453312\n",
            "Epoch: 30 | Loss: 0.014155393466353416\n",
            "Epoch: 40 | Loss: 0.010716589167714119\n",
            "Epoch: 50 | Loss: 0.0072835334576666355\n",
            "Epoch: 60 | Loss: 0.0038517764769494534\n",
            "Epoch: 70 | Loss: 0.008932482451200485\n",
            "Epoch: 80 | Loss: 0.008932482451200485\n",
            "Epoch: 90 | Loss: 0.008932482451200485\n"
          ]
        }
      ]
    },
    {
      "cell_type": "code",
      "source": [
        "# Checking model params\n",
        "print(model.state_dict())"
      ],
      "metadata": {
        "id": "c3DG26tOGiQR",
        "outputId": "460782b9-b04b-4fcf-da7c-dd6444632c70",
        "colab": {
          "base_uri": "https://localhost:8080/"
        }
      },
      "execution_count": 12,
      "outputs": [
        {
          "output_type": "stream",
          "name": "stdout",
          "text": [
            "OrderedDict([('weight', tensor([0.6990])), ('bias', tensor([0.3093]))])\n"
          ]
        }
      ]
    },
    {
      "cell_type": "markdown",
      "source": [
        "### Create validation set for evaluation"
      ],
      "metadata": {
        "id": "tlFolrx3Xcie"
      }
    },
    {
      "cell_type": "markdown",
      "source": [
        "For evaluation, we need a new dataset, called the validation dataset"
      ],
      "metadata": {
        "id": "0E10Thk1X6op"
      }
    },
    {
      "cell_type": "code",
      "source": [
        "# Validation set\n",
        "x_valid = torch.arange(1, 2, 0.05, dtype=torch.float)\n",
        "y_valid = weight * x_valid + bias\n",
        "print(x_valid)\n",
        "print(y_valid)"
      ],
      "metadata": {
        "id": "UTMj2CS1GOQi",
        "outputId": "3cc0c3c6-fcb9-4b53-a47f-4200fefaee23",
        "colab": {
          "base_uri": "https://localhost:8080/"
        }
      },
      "execution_count": 13,
      "outputs": [
        {
          "output_type": "stream",
          "name": "stdout",
          "text": [
            "tensor([1.0000, 1.0500, 1.1000, 1.1500, 1.2000, 1.2500, 1.3000, 1.3500, 1.4000,\n",
            "        1.4500, 1.5000, 1.5500, 1.6000, 1.6500, 1.7000, 1.7500, 1.8000, 1.8500,\n",
            "        1.9000, 1.9500])\n",
            "tensor([1.0000, 1.0350, 1.0700, 1.1050, 1.1400, 1.1750, 1.2100, 1.2450, 1.2800,\n",
            "        1.3150, 1.3500, 1.3850, 1.4200, 1.4550, 1.4900, 1.5250, 1.5600, 1.5950,\n",
            "        1.6300, 1.6650])\n"
          ]
        }
      ]
    },
    {
      "cell_type": "code",
      "source": [
        "# Eval function\n",
        "def eval_model():\n",
        "  model.eval()\n",
        "  for epoch in range(epochs):\n",
        "    with torch.inference_mode():\n",
        "      valid_pred = model(x_valid)\n",
        "      valid_loss = loss_fn(valid_pred, y_valid)\n",
        "    if epoch % 10 == 0:\n",
        "      test_losses.append(valid_loss.item())\n",
        "      print(f\"Epoch: {epoch} | Loss: {valid_loss}\")\n",
        "\n",
        "\n",
        "# Start evaluating\n",
        "eval_model()"
      ],
      "metadata": {
        "id": "iTfCjhXO5Sv6",
        "outputId": "81a41e2a-85e1-407f-8ec2-77517f3a8211",
        "colab": {
          "base_uri": "https://localhost:8080/"
        }
      },
      "execution_count": 14,
      "outputs": [
        {
          "output_type": "stream",
          "name": "stdout",
          "text": [
            "Epoch: 0 | Loss: 0.007880901917815208\n",
            "Epoch: 10 | Loss: 0.007880901917815208\n",
            "Epoch: 20 | Loss: 0.007880901917815208\n",
            "Epoch: 30 | Loss: 0.007880901917815208\n",
            "Epoch: 40 | Loss: 0.007880901917815208\n",
            "Epoch: 50 | Loss: 0.007880901917815208\n",
            "Epoch: 60 | Loss: 0.007880901917815208\n",
            "Epoch: 70 | Loss: 0.007880901917815208\n",
            "Epoch: 80 | Loss: 0.007880901917815208\n",
            "Epoch: 90 | Loss: 0.007880901917815208\n"
          ]
        }
      ]
    },
    {
      "cell_type": "markdown",
      "source": [
        "Define a function to visualize training losses and testing losses"
      ],
      "metadata": {
        "id": "d3NZYNXVBBAZ"
      }
    },
    {
      "cell_type": "code",
      "source": [
        "def loss_plot():\n",
        "  plt.figure(figsize=(6, 4))\n",
        "  plt.title(\"Linear Regression losses\")\n",
        "  plt.xlabel(\"Epochs\")\n",
        "  plt.ylabel(\"Loss\")\n",
        "\n",
        "  # Train loss\n",
        "  plt.plot(epoch_count, train_losses, label=\"Train loss\")\n",
        "  # Test loss\n",
        "  plt.plot(epoch_count, test_losses, label=\"Test loss\")\n",
        "\n",
        "  plt.legend()\n",
        "  plt.show()\n",
        "\n",
        "loss_plot()"
      ],
      "metadata": {
        "id": "MXAZW8Ph99X5",
        "outputId": "e2a91a9c-a411-4037-f2f6-78780d814d4a",
        "colab": {
          "base_uri": "https://localhost:8080/",
          "height": 410
        }
      },
      "execution_count": 15,
      "outputs": [
        {
          "output_type": "display_data",
          "data": {
            "text/plain": [
              "<Figure size 600x400 with 1 Axes>"
            ],
            "image/png": "[encoded data removed]"
          },
          "metadata": {}
        }
      ]
    },
    {
      "cell_type": "markdown",
      "source": [
        "## Saving and Loading a model"
      ],
      "metadata": {
        "id": "Rx54I3JDPFiA"
      }
    },
    {
      "cell_type": "code",
      "source": [
        "# Preparation code\n",
        "from pathlib import Path\n",
        "\n",
        "# Create models directory\n",
        "MODEL_PATH = Path(\"models\")\n",
        "MODEL_PATH.mkdir(parents=True, exist_ok=True)\n",
        "print(f\"Model save path: {MODEL_PATH}\")\n",
        "\n",
        "# Crearte model save path\n",
        "MODEL_NAME = \"linear_regression_model.pth\"\n",
        "MODEL_SAVE_PATH = MODEL_PATH / MODEL_NAME\n",
        "\n",
        "print(f\"Model save path: {MODEL_SAVE_PATH}\")"
      ],
      "metadata": {
        "id": "Z6YoHzX4TtwW",
        "outputId": "93926fbc-b102-4816-e4fd-0b9d28e1d7ed",
        "colab": {
          "base_uri": "https://localhost:8080/"
        }
      },
      "execution_count": 16,
      "outputs": [
        {
          "output_type": "stream",
          "name": "stdout",
          "text": [
            "Model save path: models\n",
            "Model save path: models/linear_regression_model.pth\n"
          ]
        }
      ]
    },
    {
      "cell_type": "markdown",
      "source": [
        "### Save a model\n"
      ],
      "metadata": {
        "id": "syKAgzaxPVO5"
      }
    },
    {
      "cell_type": "markdown",
      "source": [
        "To save a model, there're 2 methods:\n",
        "1. `torch.save(model)` to save the entire model architecture, including the params and the training state.\n",
        "2. `torch.save(model.state_dict())` to save only the model's learned parameters, without its entire architecture. This is useful if we want to use the pre-trained model params in a different architecture."
      ],
      "metadata": {
        "id": "xCo3pSrOPvrE"
      }
    },
    {
      "cell_type": "code",
      "source": [
        "# Save entire model\n",
        "torch.save(model, \"model.pth\")"
      ],
      "metadata": {
        "id": "BAAztED-R8Pm"
      },
      "execution_count": null,
      "outputs": []
    },
    {
      "cell_type": "code",
      "source": [
        "# Save only the model params\n",
        "torch.save(model.state_dict(), \"model_params.pth\")"
      ],
      "metadata": {
        "id": "zEznFbzPSClf"
      },
      "execution_count": null,
      "outputs": []
    },
    {
      "cell_type": "markdown",
      "source": [
        "### Load a model"
      ],
      "metadata": {
        "id": "pPaNwAB-SPBd"
      }
    },
    {
      "cell_type": "markdown",
      "source": [
        "To load a model, there're also 2 methods:\n",
        "1. `torch.load()` to load a full model\n",
        "2. `model.load_state_dict(torch.load())` to load the model params and put them in a new model"
      ],
      "metadata": {
        "id": "RSQhxQv4SRQG"
      }
    },
    {
      "cell_type": "code",
      "source": [
        "# Load entire model\n",
        "torch.load(\"model.pth\")"
      ],
      "metadata": {
        "id": "uVUjB5QmSts6"
      },
      "execution_count": null,
      "outputs": []
    },
    {
      "cell_type": "code",
      "source": [
        "# Load model params\n",
        "another_model = LinearRegressionModel()\n",
        "another_model.load_state_dict(torch.load(\"model_params.pth\"))"
      ],
      "metadata": {
        "id": "QwzvqRgeS0Kd"
      },
      "execution_count": null,
      "outputs": []
    },
    {
      "cell_type": "markdown",
      "source": [
        "### Saving and loading"
      ],
      "metadata": {
        "id": "a67k6V5WVE8-"
      }
    },
    {
      "cell_type": "code",
      "source": [
        "# Saving our model's parameters\n",
        "print(f\"Saving model params as {MODEL_SAVE_PATH}\")\n",
        "torch.save(obj=model.state_dict(), f=MODEL_SAVE_PATH)"
      ],
      "metadata": {
        "id": "4JhkYVq_VG-l",
        "outputId": "f5cb44b0-a01c-4d45-aac8-19591c3c337e",
        "colab": {
          "base_uri": "https://localhost:8080/"
        }
      },
      "execution_count": 17,
      "outputs": [
        {
          "output_type": "stream",
          "name": "stdout",
          "text": [
            "Saving model params as models/linear_regression_model.pth\n"
          ]
        }
      ]
    },
    {
      "cell_type": "code",
      "source": [
        "# Loading model paramters into a new model\n",
        "another_model = LinearRegressionModel()\n",
        "another_model.load_state_dict(torch.load(f=MODEL_SAVE_PATH))\n",
        "\n",
        "print(f\"New model state dict:\\n{another_model.state_dict()}\")"
      ],
      "metadata": {
        "id": "WEja9UX0VYXl",
        "outputId": "f2e1bff8-2184-4b98-d128-2920db2e3c97",
        "colab": {
          "base_uri": "https://localhost:8080/"
        }
      },
      "execution_count": 20,
      "outputs": [
        {
          "output_type": "stream",
          "name": "stdout",
          "text": [
            "New model state dict:\n",
            "OrderedDict([('weight', tensor([0.6990])), ('bias', tensor([0.3093]))])\n"
          ]
        }
      ]
    }
  ],
  "metadata": {
    "language_info": {
      "name": "python"
    },
    "colab": {
      "provenance": [],
      "toc_visible": true,
      "include_colab_link": true
    },
    "kernelspec": {
      "name": "python3",
      "display_name": "Python 3"
    }
  },
  "nbformat": 4,
  "nbformat_minor": 0
}