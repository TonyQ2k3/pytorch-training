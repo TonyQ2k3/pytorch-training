{
  "cells": [
    {
      "cell_type": "markdown",
      "metadata": {
        "id": "view-in-github",
        "colab_type": "text"
      },
      "source": [
        "<a href=\"https://colab.research.google.com/github/TonyQ2k3/pytorch-training/blob/main/notebooks/pytorch_day7.ipynb\" target=\"_parent\"><img src=\"https://colab.research.google.com/assets/colab-badge.svg\" alt=\"Open In Colab\"/></a>"
      ]
    },
    {
      "cell_type": "markdown",
      "metadata": {
        "id": "kKR-TxJ41Q7m"
      },
      "source": [
        "# Pytorch Day 7 - Computer Vision with Pytorch\n",
        "---"
      ]
    },
    {
      "cell_type": "markdown",
      "metadata": {
        "id": "n7OvAxbm1Q7o"
      },
      "source": [
        "## Convolutional Neural Network"
      ]
    },
    {
      "cell_type": "markdown",
      "source": [
        "A type of deep learning model commonly used for analysing visual data."
      ],
      "metadata": {
        "id": "0MM1TcNwEWFV"
      }
    },
    {
      "cell_type": "markdown",
      "source": [
        "Key components:\n",
        "+ Apply convolutional operations to detect edges and shapes.\n",
        "+ Hidden layer activation function: ReLU"
      ],
      "metadata": {
        "id": "yiu919hPGXvv"
      }
    },
    {
      "cell_type": "code",
      "source": [
        "import torch\n",
        "from torch import nn\n",
        "import torchvision\n",
        "from torchvision import datasets\n",
        "from torchvision.transforms import ToTensor, Lambda, Compose\n",
        "import matplotlib.pyplot as plt"
      ],
      "metadata": {
        "id": "Wtl58eb9MbOW"
      },
      "execution_count": 1,
      "outputs": []
    },
    {
      "cell_type": "code",
      "source": [
        "# Download helper function\n",
        "import requests\n",
        "from pathlib import Path\n",
        "\n",
        "if Path(\"helper_functions.py\").is_file() is not True:\n",
        "  request = requests.get(\"https://raw.githubusercontent.com/mrdbourke/pytorch-deep-learning/main/helper_functions.py\")\n",
        "  with open(\"helper_functions.py\", \"wb\") as f:\n",
        "    f.write(request.content)"
      ],
      "metadata": {
        "id": "0wa5nz_S06DF"
      },
      "execution_count": 12,
      "outputs": []
    },
    {
      "cell_type": "markdown",
      "source": [
        "## Getting a dataset"
      ],
      "metadata": {
        "id": "He56088KNG2j"
      }
    },
    {
      "cell_type": "markdown",
      "source": [
        "### 1. `torchvision.datasets`"
      ],
      "metadata": {
        "id": "aT-yddCymMvS"
      }
    },
    {
      "cell_type": "code",
      "source": [
        "fashion_dataset = datasets.FashionMNIST(\n",
        "  root='dataset/',\n",
        "  download=True,\n",
        "  train=True,\n",
        "  transform=ToTensor(),\n",
        "  target_transform=None\n",
        ")\n"
      ],
      "metadata": {
        "id": "IJIPqy-8igE0",
        "outputId": "7beeb3ba-c48d-4725-8b70-7c2213ae340a",
        "colab": {
          "base_uri": "https://localhost:8080/"
        }
      },
      "execution_count": 2,
      "outputs": [
        {
          "output_type": "stream",
          "name": "stdout",
          "text": [
            "Downloading http://fashion-mnist.s3-website.eu-central-1.amazonaws.com/train-images-idx3-ubyte.gz\n",
            "Downloading http://fashion-mnist.s3-website.eu-central-1.amazonaws.com/train-images-idx3-ubyte.gz to dataset/FashionMNIST/raw/train-images-idx3-ubyte.gz\n"
          ]
        },
        {
          "output_type": "stream",
          "name": "stderr",
          "text": [
            "100%|██████████| 26421880/26421880 [00:02<00:00, 12061346.11it/s]\n"
          ]
        },
        {
          "output_type": "stream",
          "name": "stdout",
          "text": [
            "Extracting dataset/FashionMNIST/raw/train-images-idx3-ubyte.gz to dataset/FashionMNIST/raw\n",
            "\n",
            "Downloading http://fashion-mnist.s3-website.eu-central-1.amazonaws.com/train-labels-idx1-ubyte.gz\n",
            "Downloading http://fashion-mnist.s3-website.eu-central-1.amazonaws.com/train-labels-idx1-ubyte.gz to dataset/FashionMNIST/raw/train-labels-idx1-ubyte.gz\n"
          ]
        },
        {
          "output_type": "stream",
          "name": "stderr",
          "text": [
            "100%|██████████| 29515/29515 [00:00<00:00, 204707.95it/s]\n"
          ]
        },
        {
          "output_type": "stream",
          "name": "stdout",
          "text": [
            "Extracting dataset/FashionMNIST/raw/train-labels-idx1-ubyte.gz to dataset/FashionMNIST/raw\n",
            "\n",
            "Downloading http://fashion-mnist.s3-website.eu-central-1.amazonaws.com/t10k-images-idx3-ubyte.gz\n",
            "Downloading http://fashion-mnist.s3-website.eu-central-1.amazonaws.com/t10k-images-idx3-ubyte.gz to dataset/FashionMNIST/raw/t10k-images-idx3-ubyte.gz\n"
          ]
        },
        {
          "output_type": "stream",
          "name": "stderr",
          "text": [
            "100%|██████████| 4422102/4422102 [00:04<00:00, 987023.02it/s] \n"
          ]
        },
        {
          "output_type": "stream",
          "name": "stdout",
          "text": [
            "Extracting dataset/FashionMNIST/raw/t10k-images-idx3-ubyte.gz to dataset/FashionMNIST/raw\n",
            "\n",
            "Downloading http://fashion-mnist.s3-website.eu-central-1.amazonaws.com/t10k-labels-idx1-ubyte.gz\n",
            "Downloading http://fashion-mnist.s3-website.eu-central-1.amazonaws.com/t10k-labels-idx1-ubyte.gz to dataset/FashionMNIST/raw/t10k-labels-idx1-ubyte.gz\n"
          ]
        },
        {
          "output_type": "stream",
          "name": "stderr",
          "text": [
            "100%|██████████| 5148/5148 [00:00<00:00, 6621366.76it/s]"
          ]
        },
        {
          "output_type": "stream",
          "name": "stdout",
          "text": [
            "Extracting dataset/FashionMNIST/raw/t10k-labels-idx1-ubyte.gz to dataset/FashionMNIST/raw\n",
            "\n"
          ]
        },
        {
          "output_type": "stream",
          "name": "stderr",
          "text": [
            "\n"
          ]
        }
      ]
    },
    {
      "cell_type": "code",
      "source": [
        "fashion_datatest = datasets.FashionMNIST(\n",
        "    root='dataset',\n",
        "    download=True,\n",
        "    train=False,\n",
        "    transform=ToTensor(),\n",
        "    target_transform=None\n",
        ")"
      ],
      "metadata": {
        "id": "5L0CN_-0n1Xw"
      },
      "execution_count": 3,
      "outputs": []
    },
    {
      "cell_type": "code",
      "source": [
        "# Checking the classes\n",
        "class_names = fashion_dataset.classes\n",
        "print(class_names)\n",
        "print(fashion_dataset.class_to_idx)"
      ],
      "metadata": {
        "id": "B1MQBIQookNa",
        "outputId": "48fafc49-0ebb-4bf9-b58f-83faa569dee0",
        "colab": {
          "base_uri": "https://localhost:8080/"
        }
      },
      "execution_count": 4,
      "outputs": [
        {
          "output_type": "stream",
          "name": "stdout",
          "text": [
            "['T-shirt/top', 'Trouser', 'Pullover', 'Dress', 'Coat', 'Sandal', 'Shirt', 'Sneaker', 'Bag', 'Ankle boot']\n",
            "{'T-shirt/top': 0, 'Trouser': 1, 'Pullover': 2, 'Dress': 3, 'Coat': 4, 'Sandal': 5, 'Shirt': 6, 'Sneaker': 7, 'Bag': 8, 'Ankle boot': 9}\n"
          ]
        }
      ]
    },
    {
      "cell_type": "code",
      "source": [
        "# Checking the shape\n",
        "images = fashion_dataset.data\n",
        "targets = fashion_dataset.targets\n",
        "print(images.shape)\n",
        "print(targets.shape)"
      ],
      "metadata": {
        "id": "ThtAifPCpDgW",
        "outputId": "e027d1b7-3ae0-4bcb-872a-5cbd2c58c04c",
        "colab": {
          "base_uri": "https://localhost:8080/"
        }
      },
      "execution_count": 5,
      "outputs": [
        {
          "output_type": "stream",
          "name": "stdout",
          "text": [
            "torch.Size([60000, 28, 28])\n",
            "torch.Size([60000])\n"
          ]
        }
      ]
    },
    {
      "cell_type": "code",
      "source": [
        "# Image size\n",
        "print(images[0].shape)"
      ],
      "metadata": {
        "id": "2p-qqP0asaG8",
        "outputId": "03ae7b94-5602-4cea-b1e5-03af576932d6",
        "colab": {
          "base_uri": "https://localhost:8080/"
        }
      },
      "execution_count": 6,
      "outputs": [
        {
          "output_type": "stream",
          "name": "stdout",
          "text": [
            "torch.Size([28, 28])\n"
          ]
        }
      ]
    },
    {
      "cell_type": "markdown",
      "source": [
        "### 2. Image visualization"
      ],
      "metadata": {
        "id": "YvwFfCzntqAM"
      }
    },
    {
      "cell_type": "code",
      "source": [
        "# Extract images and labels\n",
        "images = fashion_dataset.data\n",
        "labels = fashion_dataset.targets"
      ],
      "metadata": {
        "id": "rds68zfzw5Hs"
      },
      "execution_count": 7,
      "outputs": []
    },
    {
      "cell_type": "code",
      "source": [
        "# Visualize using plt.imshow()\n",
        "index = torch.randint(0, 60000, dtype=torch.int, size=[1]).item()\n",
        "plt.imshow(X=images[index], cmap='gray')\n",
        "plt.title(class_names[labels[index]])"
      ],
      "metadata": {
        "id": "liU5XJLEuvvK",
        "outputId": "bfb08974-365f-4dbd-c256-5183e2412af9",
        "colab": {
          "base_uri": "https://localhost:8080/",
          "height": 469
        }
      },
      "execution_count": 8,
      "outputs": [
        {
          "output_type": "execute_result",
          "data": {
            "text/plain": [
              "Text(0.5, 1.0, 'Sneaker')"
            ]
          },
          "metadata": {},
          "execution_count": 8
        },
        {
          "output_type": "display_data",
          "data": {
            "text/plain": [
              "<Figure size 640x480 with 1 Axes>"
            ],
            "image/png": "[encoded data removed]"
          },
          "metadata": {}
        }
      ]
    },
    {
      "cell_type": "markdown",
      "source": [
        "## Data preparation"
      ],
      "metadata": {
        "id": "R_k3OKravlbX"
      }
    },
    {
      "cell_type": "markdown",
      "source": [
        "### 1. DataLoader"
      ],
      "metadata": {
        "id": "8EFPbDPiVstF"
      }
    },
    {
      "cell_type": "markdown",
      "source": [
        "As of now, our data is a Pytorch dataset.\n",
        "A dataloader transform it into a Python iterable.\n",
        "We need to turn our data into batches (aka mini-batches)"
      ],
      "metadata": {
        "id": "HHySomlWW7T6"
      }
    },
    {
      "cell_type": "markdown",
      "source": [
        "### 2. Mini-batches"
      ],
      "metadata": {
        "id": "A2_lxIoQcB1f"
      }
    },
    {
      "cell_type": "markdown",
      "source": [
        "Reason for batches:\n",
        "+ Splitting up large dataset makes it more efficient to process\n",
        "+ batch size = how much data get processed at a time\n",
        "+ Gives model more time to update gradient per epoch"
      ],
      "metadata": {
        "id": "CzXz9ccncD3U"
      }
    },
    {
      "cell_type": "code",
      "source": [
        "from torch.utils.data import DataLoader\n",
        "\n",
        "BATCH_SIZE = 32\n",
        "\n",
        "train_dataloader = DataLoader(\n",
        "    dataset=fashion_dataset,\n",
        "    batch_size=BATCH_SIZE,\n",
        "    shuffle=True\n",
        ")\n",
        "\n",
        "test_dataloader = DataLoader(\n",
        "    dataset=fashion_datatest,\n",
        "    batch_size=BATCH_SIZE,\n",
        "    shuffle=True\n",
        ")\n",
        "\n",
        "train_dataloader, test_dataloader"
      ],
      "metadata": {
        "id": "dhmRARmZcEye",
        "outputId": "4534b2df-17d3-492e-c2f0-c57a6bc1082b",
        "colab": {
          "base_uri": "https://localhost:8080/"
        }
      },
      "execution_count": 9,
      "outputs": [
        {
          "output_type": "execute_result",
          "data": {
            "text/plain": [
              "(<torch.utils.data.dataloader.DataLoader at 0x7bf971263c70>,\n",
              " <torch.utils.data.dataloader.DataLoader at 0x7bf971263a30>)"
            ]
          },
          "metadata": {},
          "execution_count": 9
        }
      ]
    },
    {
      "cell_type": "markdown",
      "source": [
        "## Building a Baseline Model"
      ],
      "metadata": {
        "id": "l10QAoDywb9D"
      }
    },
    {
      "cell_type": "code",
      "source": [
        "class FashionMnistModelv0(nn.Module):\n",
        "  def __init__(self, input_shape: int, hidden_units: int, output_shape: int):\n",
        "    super().__init__()\n",
        "    self.layer_stack = nn.Sequential(\n",
        "        nn.Flatten(),\n",
        "        nn.Linear(input_shape, hidden_units),\n",
        "        nn.ReLU(),\n",
        "        nn.Linear(hidden_units, hidden_units),\n",
        "        nn.ReLU(),\n",
        "        nn.Linear(hidden_units, output_shape)\n",
        "    )\n",
        "\n",
        "  def forward(self, x):\n",
        "    return self.layer_stack(x)"
      ],
      "metadata": {
        "id": "kObuxGOAyAXt"
      },
      "execution_count": 10,
      "outputs": []
    },
    {
      "cell_type": "code",
      "source": [
        "torch.manual_seed(42)\n",
        "model = FashionMnistModelv0(\n",
        "  input_shape=28*28,\n",
        "  hidden_units=10,\n",
        "  output_shape=len(class_names)\n",
        ")\n",
        "model"
      ],
      "metadata": {
        "id": "exUMrVoU0vV5",
        "outputId": "f14c9d34-4b88-48ff-fd1f-61f337863bcc",
        "colab": {
          "base_uri": "https://localhost:8080/"
        }
      },
      "execution_count": 11,
      "outputs": [
        {
          "output_type": "execute_result",
          "data": {
            "text/plain": [
              "FashionMnistModelv0(\n",
              "  (layer_stack): Sequential(\n",
              "    (0): Flatten(start_dim=1, end_dim=-1)\n",
              "    (1): Linear(in_features=784, out_features=10, bias=True)\n",
              "    (2): ReLU()\n",
              "    (3): Linear(in_features=10, out_features=10, bias=True)\n",
              "    (4): ReLU()\n",
              "    (5): Linear(in_features=10, out_features=10, bias=True)\n",
              "  )\n",
              ")"
            ]
          },
          "metadata": {},
          "execution_count": 11
        }
      ]
    },
    {
      "cell_type": "markdown",
      "source": [
        "## Training Process"
      ],
      "metadata": {
        "id": "x46gczDQ1f0g"
      }
    },
    {
      "cell_type": "markdown",
      "source": [
        "### Loss functions and Optimizer\n",
        "\n",
        "Multi-class classification:\n",
        "+ Loss function: `nn.CrossEntropyLoss()`\n",
        "+ Optimizer: `torch.optim.SGD()` or `torch.optim.Adam()`\n",
        "+ Evaluation: Accuracy"
      ],
      "metadata": {
        "id": "AYu8M43bzMbN"
      }
    },
    {
      "cell_type": "code",
      "source": [
        "from helper_functions import accuracy_fn\n",
        "\n",
        "loss_fn = nn.CrossEntropyLoss()\n",
        "optimizer = torch.optim.SGD(model.parameters(), lr=0.01)"
      ],
      "metadata": {
        "id": "3g1ReWdFzQRM"
      },
      "execution_count": 13,
      "outputs": []
    },
    {
      "cell_type": "code",
      "source": [
        "training_losses = []\n",
        "testing_losses = []"
      ],
      "metadata": {
        "id": "pIosrBO02ZuT"
      },
      "execution_count": 14,
      "outputs": []
    },
    {
      "cell_type": "markdown",
      "source": [
        "### Training Loop"
      ],
      "metadata": {
        "id": "hPlv_vQN5siT"
      }
    },
    {
      "cell_type": "code",
      "source": [
        "# Setup progress bar\n",
        "from tqdm.auto import tqdm\n",
        "\n",
        "\n",
        "# Number of epochs\n",
        "epochs = 100\n",
        "eps = [x for x in range(1, epochs+1)]\n",
        "\n",
        "for epoch in tqdm(range(epochs)):\n",
        "  # Looping through every batch, within every epoch\n",
        "  for batch, (image, label) in enumerate(train_dataloader):\n",
        "    # Train\n",
        "    model.train()\n",
        "\n",
        "    y_logits = model(image)\n",
        "    loss = loss_fn(y_logits, label)\n",
        "    training_losses.append(loss)\n",
        "\n",
        "    optimizer.zero_grad()\n",
        "\n",
        "    loss.backward()\n",
        "\n",
        "    optimizer.step()\n",
        "\n",
        "  # Eval\n",
        "  model.eval()\n",
        "  with torch.inference_mode():\n",
        "    for test_image, test_label in test_dataloader:\n",
        "      y_test = model(test_image)\n",
        "      test_loss = loss_fn(y_test, test_label)\n",
        "      testing_losses.append(test_loss)\n",
        "\n",
        "  if epoch % 10 == 0:\n",
        "    print(f\"Epoch {epoch}: Train loss = {loss} | Test loss = {test_loss}\")"
      ],
      "metadata": {
        "id": "AldaNkuv5vju",
        "outputId": "06754411-6b41-4845-9cfb-47a226957bf8",
        "colab": {
          "base_uri": "https://localhost:8080/",
          "height": 223,
          "referenced_widgets": [
            "368e79893a5d459ebf3daf9268c4e756",
            "3451ad2f395644edb7b5b8378e521220",
            "f7e1a057fa32466eb471e38afc42495e",
            "01016e855f8545b3955c05d75238c9a0",
            "e49e7ff6ba7142c89c14b59a91c132ab",
            "c6d3b113ce614bd4bd7c8d9cf115f1e1",
            "e91cfbdce29345c1bf10fcc30e506b35",
            "da0d7d5809ef4cc887442466b4311500",
            "0459b749ae5247dd8800f7a6a4957c9d",
            "f5853fc2d23c4ba49a4031f9b6a1bf71",
            "a7bc915c09a04d408da4c52c6706d8a4"
          ]
        }
      },
      "execution_count": 16,
      "outputs": [
        {
          "output_type": "display_data",
          "data": {
            "text/plain": [
              "  0%|          | 0/100 [00:00<?, ?it/s]"
            ],
            "application/vnd.jupyter.widget-view+json": {
              "version_major": 2,
              "version_minor": 0,
              "model_id": "368e79893a5d459ebf3daf9268c4e756"
            }
          },
          "metadata": {}
        },
        {
          "output_type": "stream",
          "name": "stdout",
          "text": [
            "Epoch 0: Train loss = 0.7044632434844971 | Test loss = 0.5753015875816345\n",
            "Epoch 10: Train loss = 0.25855356454849243 | Test loss = 0.33598557114601135\n",
            "Epoch 20: Train loss = 0.3175349235534668 | Test loss = 0.18295998871326447\n",
            "Epoch 30: Train loss = 0.29776519536972046 | Test loss = 0.6631083488464355\n",
            "Epoch 40: Train loss = 0.5241410136222839 | Test loss = 0.3293799161911011\n",
            "Epoch 50: Train loss = 0.24328404664993286 | Test loss = 0.4935345947742462\n",
            "Epoch 60: Train loss = 0.5714736580848694 | Test loss = 0.5490293502807617\n",
            "Epoch 70: Train loss = 0.2897193431854248 | Test loss = 0.08046209067106247\n",
            "Epoch 80: Train loss = 0.1778423935174942 | Test loss = 0.3479074537754059\n",
            "Epoch 90: Train loss = 0.3587917387485504 | Test loss = 0.1870511770248413\n"
          ]
        }
      ]
    },
    {
      "cell_type": "code",
      "source": [],
      "metadata": {
        "id": "chErlX7E__uD"
      },
      "execution_count": null,
      "outputs": []
    }
  ],
  "metadata": {
    "language_info": {
      "name": "python"
    },
    "colab": {
      "provenance": [],
      "toc_visible": true,
      "include_colab_link": true
    },
    "kernelspec": {
      "name": "python3",
      "display_name": "Python 3"
    },
    "widgets": {
      "application/vnd.jupyter.widget-state+json": {
        "368e79893a5d459ebf3daf9268c4e756": {
          "model_module": "@jupyter-widgets/controls",
          "model_name": "HBoxModel",
          "model_module_version": "1.5.0",
          "state": {
            "_dom_classes": [],
            "_model_module": "@jupyter-widgets/controls",
            "_model_module_version": "1.5.0",
            "_model_name": "HBoxModel",
            "_view_count": null,
            "_view_module": "@jupyter-widgets/controls",
            "_view_module_version": "1.5.0",
            "_view_name": "HBoxView",
            "box_style": "",
            "children": [
              "IPY_MODEL_3451ad2f395644edb7b5b8378e521220",
              "IPY_MODEL_f7e1a057fa32466eb471e38afc42495e",
              "IPY_MODEL_01016e855f8545b3955c05d75238c9a0"
            ],
            "layout": "IPY_MODEL_e49e7ff6ba7142c89c14b59a91c132ab"
          }
        },
        "3451ad2f395644edb7b5b8378e521220": {
          "model_module": "@jupyter-widgets/controls",
          "model_name": "HTMLModel",
          "model_module_version": "1.5.0",
          "state": {
            "_dom_classes": [],
            "_model_module": "@jupyter-widgets/controls",
            "_model_module_version": "1.5.0",
            "_model_name": "HTMLModel",
            "_view_count": null,
            "_view_module": "@jupyter-widgets/controls",
            "_view_module_version": "1.5.0",
            "_view_name": "HTMLView",
            "description": "",
            "description_tooltip": null,
            "layout": "IPY_MODEL_c6d3b113ce614bd4bd7c8d9cf115f1e1",
            "placeholder": "​",
            "style": "IPY_MODEL_e91cfbdce29345c1bf10fcc30e506b35",
            "value": "100%"
          }
        },
        "f7e1a057fa32466eb471e38afc42495e": {
          "model_module": "@jupyter-widgets/controls",
          "model_name": "FloatProgressModel",
          "model_module_version": "1.5.0",
          "state": {
            "_dom_classes": [],
            "_model_module": "@jupyter-widgets/controls",
            "_model_module_version": "1.5.0",
            "_model_name": "FloatProgressModel",
            "_view_count": null,
            "_view_module": "@jupyter-widgets/controls",
            "_view_module_version": "1.5.0",
            "_view_name": "ProgressView",
            "bar_style": "success",
            "description": "",
            "description_tooltip": null,
            "layout": "IPY_MODEL_da0d7d5809ef4cc887442466b4311500",
            "max": 100,
            "min": 0,
            "orientation": "horizontal",
            "style": "IPY_MODEL_0459b749ae5247dd8800f7a6a4957c9d",
            "value": 100
          }
        },
        "01016e855f8545b3955c05d75238c9a0": {
          "model_module": "@jupyter-widgets/controls",
          "model_name": "HTMLModel",
          "model_module_version": "1.5.0",
          "state": {
            "_dom_classes": [],
            "_model_module": "@jupyter-widgets/controls",
            "_model_module_version": "1.5.0",
            "_model_name": "HTMLModel",
            "_view_count": null,
            "_view_module": "@jupyter-widgets/controls",
            "_view_module_version": "1.5.0",
            "_view_name": "HTMLView",
            "description": "",
            "description_tooltip": null,
            "layout": "IPY_MODEL_f5853fc2d23c4ba49a4031f9b6a1bf71",
            "placeholder": "​",
            "style": "IPY_MODEL_a7bc915c09a04d408da4c52c6706d8a4",
            "value": " 100/100 [18:18&lt;00:00, 11.11s/it]"
          }
        },
        "e49e7ff6ba7142c89c14b59a91c132ab": {
          "model_module": "@jupyter-widgets/base",
          "model_name": "LayoutModel",
          "model_module_version": "1.2.0",
          "state": {
            "_model_module": "@jupyter-widgets/base",
            "_model_module_version": "1.2.0",
            "_model_name": "LayoutModel",
            "_view_count": null,
            "_view_module": "@jupyter-widgets/base",
            "_view_module_version": "1.2.0",
            "_view_name": "LayoutView",
            "align_content": null,
            "align_items": null,
            "align_self": null,
            "border": null,
            "bottom": null,
            "display": null,
            "flex": null,
            "flex_flow": null,
            "grid_area": null,
            "grid_auto_columns": null,
            "grid_auto_flow": null,
            "grid_auto_rows": null,
            "grid_column": null,
            "grid_gap": null,
            "grid_row": null,
            "grid_template_areas": null,
            "grid_template_columns": null,
            "grid_template_rows": null,
            "height": null,
            "justify_content": null,
            "justify_items": null,
            "left": null,
            "margin": null,
            "max_height": null,
            "max_width": null,
            "min_height": null,
            "min_width": null,
            "object_fit": null,
            "object_position": null,
            "order": null,
            "overflow": null,
            "overflow_x": null,
            "overflow_y": null,
            "padding": null,
            "right": null,
            "top": null,
            "visibility": null,
            "width": null
          }
        },
        "c6d3b113ce614bd4bd7c8d9cf115f1e1": {
          "model_module": "@jupyter-widgets/base",
          "model_name": "LayoutModel",
          "model_module_version": "1.2.0",
          "state": {
            "_model_module": "@jupyter-widgets/base",
            "_model_module_version": "1.2.0",
            "_model_name": "LayoutModel",
            "_view_count": null,
            "_view_module": "@jupyter-widgets/base",
            "_view_module_version": "1.2.0",
            "_view_name": "LayoutView",
            "align_content": null,
            "align_items": null,
            "align_self": null,
            "border": null,
            "bottom": null,
            "display": null,
            "flex": null,
            "flex_flow": null,
            "grid_area": null,
            "grid_auto_columns": null,
            "grid_auto_flow": null,
            "grid_auto_rows": null,
            "grid_column": null,
            "grid_gap": null,
            "grid_row": null,
            "grid_template_areas": null,
            "grid_template_columns": null,
            "grid_template_rows": null,
            "height": null,
            "justify_content": null,
            "justify_items": null,
            "left": null,
            "margin": null,
            "max_height": null,
            "max_width": null,
            "min_height": null,
            "min_width": null,
            "object_fit": null,
            "object_position": null,
            "order": null,
            "overflow": null,
            "overflow_x": null,
            "overflow_y": null,
            "padding": null,
            "right": null,
            "top": null,
            "visibility": null,
            "width": null
          }
        },
        "e91cfbdce29345c1bf10fcc30e506b35": {
          "model_module": "@jupyter-widgets/controls",
          "model_name": "DescriptionStyleModel",
          "model_module_version": "1.5.0",
          "state": {
            "_model_module": "@jupyter-widgets/controls",
            "_model_module_version": "1.5.0",
            "_model_name": "DescriptionStyleModel",
            "_view_count": null,
            "_view_module": "@jupyter-widgets/base",
            "_view_module_version": "1.2.0",
            "_view_name": "StyleView",
            "description_width": ""
          }
        },
        "da0d7d5809ef4cc887442466b4311500": {
          "model_module": "@jupyter-widgets/base",
          "model_name": "LayoutModel",
          "model_module_version": "1.2.0",
          "state": {
            "_model_module": "@jupyter-widgets/base",
            "_model_module_version": "1.2.0",
            "_model_name": "LayoutModel",
            "_view_count": null,
            "_view_module": "@jupyter-widgets/base",
            "_view_module_version": "1.2.0",
            "_view_name": "LayoutView",
            "align_content": null,
            "align_items": null,
            "align_self": null,
            "border": null,
            "bottom": null,
            "display": null,
            "flex": null,
            "flex_flow": null,
            "grid_area": null,
            "grid_auto_columns": null,
            "grid_auto_flow": null,
            "grid_auto_rows": null,
            "grid_column": null,
            "grid_gap": null,
            "grid_row": null,
            "grid_template_areas": null,
            "grid_template_columns": null,
            "grid_template_rows": null,
            "height": null,
            "justify_content": null,
            "justify_items": null,
            "left": null,
            "margin": null,
            "max_height": null,
            "max_width": null,
            "min_height": null,
            "min_width": null,
            "object_fit": null,
            "object_position": null,
            "order": null,
            "overflow": null,
            "overflow_x": null,
            "overflow_y": null,
            "padding": null,
            "right": null,
            "top": null,
            "visibility": null,
            "width": null
          }
        },
        "0459b749ae5247dd8800f7a6a4957c9d": {
          "model_module": "@jupyter-widgets/controls",
          "model_name": "ProgressStyleModel",
          "model_module_version": "1.5.0",
          "state": {
            "_model_module": "@jupyter-widgets/controls",
            "_model_module_version": "1.5.0",
            "_model_name": "ProgressStyleModel",
            "_view_count": null,
            "_view_module": "@jupyter-widgets/base",
            "_view_module_version": "1.2.0",
            "_view_name": "StyleView",
            "bar_color": null,
            "description_width": ""
          }
        },
        "f5853fc2d23c4ba49a4031f9b6a1bf71": {
          "model_module": "@jupyter-widgets/base",
          "model_name": "LayoutModel",
          "model_module_version": "1.2.0",
          "state": {
            "_model_module": "@jupyter-widgets/base",
            "_model_module_version": "1.2.0",
            "_model_name": "LayoutModel",
            "_view_count": null,
            "_view_module": "@jupyter-widgets/base",
            "_view_module_version": "1.2.0",
            "_view_name": "LayoutView",
            "align_content": null,
            "align_items": null,
            "align_self": null,
            "border": null,
            "bottom": null,
            "display": null,
            "flex": null,
            "flex_flow": null,
            "grid_area": null,
            "grid_auto_columns": null,
            "grid_auto_flow": null,
            "grid_auto_rows": null,
            "grid_column": null,
            "grid_gap": null,
            "grid_row": null,
            "grid_template_areas": null,
            "grid_template_columns": null,
            "grid_template_rows": null,
            "height": null,
            "justify_content": null,
            "justify_items": null,
            "left": null,
            "margin": null,
            "max_height": null,
            "max_width": null,
            "min_height": null,
            "min_width": null,
            "object_fit": null,
            "object_position": null,
            "order": null,
            "overflow": null,
            "overflow_x": null,
            "overflow_y": null,
            "padding": null,
            "right": null,
            "top": null,
            "visibility": null,
            "width": null
          }
        },
        "a7bc915c09a04d408da4c52c6706d8a4": {
          "model_module": "@jupyter-widgets/controls",
          "model_name": "DescriptionStyleModel",
          "model_module_version": "1.5.0",
          "state": {
            "_model_module": "@jupyter-widgets/controls",
            "_model_module_version": "1.5.0",
            "_model_name": "DescriptionStyleModel",
            "_view_count": null,
            "_view_module": "@jupyter-widgets/base",
            "_view_module_version": "1.2.0",
            "_view_name": "StyleView",
            "description_width": ""
          }
        }
      }
    }
  },
  "nbformat": 4,
  "nbformat_minor": 0
}