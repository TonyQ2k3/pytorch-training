{
  "cells": [
    {
      "cell_type": "markdown",
      "metadata": {
        "id": "view-in-github",
        "colab_type": "text"
      },
      "source": [
        "<a href=\"https://colab.research.google.com/github/TonyQ2k3/pytorch-training/blob/main/notebooks/pytorch_day7.ipynb\" target=\"_parent\"><img src=\"https://colab.research.google.com/assets/colab-badge.svg\" alt=\"Open In Colab\"/></a>"
      ]
    },
    {
      "cell_type": "markdown",
      "metadata": {
        "id": "kKR-TxJ41Q7m"
      },
      "source": [
        "# Pytorch Day 7 - Computer Vision with Pytorch\n",
        "---"
      ]
    },
    {
      "cell_type": "markdown",
      "metadata": {
        "id": "n7OvAxbm1Q7o"
      },
      "source": [
        "## Convolutional Neural Network"
      ]
    },
    {
      "cell_type": "markdown",
      "source": [
        "A type of deep learning model commonly used for analysing visual data."
      ],
      "metadata": {
        "id": "0MM1TcNwEWFV"
      }
    },
    {
      "cell_type": "markdown",
      "source": [
        "Key components:\n",
        "+ Apply convolutional operations to detect edges and shapes.\n",
        "+ Hidden layer activation function: ReLU"
      ],
      "metadata": {
        "id": "yiu919hPGXvv"
      }
    },
    {
      "cell_type": "code",
      "source": [
        "import torch\n",
        "from torch import nn\n",
        "import torchvision\n",
        "from torchvision import datasets\n",
        "from torchvision.transforms import ToTensor, Lambda, Compose\n",
        "import matplotlib.pyplot as plt"
      ],
      "metadata": {
        "id": "Wtl58eb9MbOW"
      },
      "execution_count": 1,
      "outputs": []
    },
    {
      "cell_type": "code",
      "source": [
        "# Download helper function\n",
        "import requests\n",
        "from pathlib import Path\n",
        "\n",
        "if Path(\"helper_functions.py\").is_file() is not True:\n",
        "  request = requests.get(\"https://raw.githubusercontent.com/mrdbourke/pytorch-deep-learning/main/helper_functions.py\")\n",
        "  with open(\"helper_functions.py\", \"wb\") as f:\n",
        "    f.write(request.content)"
      ],
      "metadata": {
        "id": "0wa5nz_S06DF"
      },
      "execution_count": 2,
      "outputs": []
    },
    {
      "cell_type": "markdown",
      "source": [
        "## Getting a dataset"
      ],
      "metadata": {
        "id": "He56088KNG2j"
      }
    },
    {
      "cell_type": "markdown",
      "source": [
        "### 1. `torchvision.datasets`"
      ],
      "metadata": {
        "id": "aT-yddCymMvS"
      }
    },
    {
      "cell_type": "code",
      "source": [
        "fashion_dataset = datasets.FashionMNIST(\n",
        "  root='dataset/',\n",
        "  download=True,\n",
        "  train=True,\n",
        "  transform=ToTensor(),\n",
        "  target_transform=None\n",
        ")\n"
      ],
      "metadata": {
        "id": "IJIPqy-8igE0",
        "outputId": "044296ab-952e-4b72-942f-f48c3564339d",
        "colab": {
          "base_uri": "https://localhost:8080/"
        }
      },
      "execution_count": 3,
      "outputs": [
        {
          "output_type": "stream",
          "name": "stdout",
          "text": [
            "Downloading http://fashion-mnist.s3-website.eu-central-1.amazonaws.com/train-images-idx3-ubyte.gz\n",
            "Downloading http://fashion-mnist.s3-website.eu-central-1.amazonaws.com/train-images-idx3-ubyte.gz to dataset/FashionMNIST/raw/train-images-idx3-ubyte.gz\n"
          ]
        },
        {
          "output_type": "stream",
          "name": "stderr",
          "text": [
            "100%|██████████| 26421880/26421880 [00:01<00:00, 13388971.04it/s]\n"
          ]
        },
        {
          "output_type": "stream",
          "name": "stdout",
          "text": [
            "Extracting dataset/FashionMNIST/raw/train-images-idx3-ubyte.gz to dataset/FashionMNIST/raw\n",
            "\n",
            "Downloading http://fashion-mnist.s3-website.eu-central-1.amazonaws.com/train-labels-idx1-ubyte.gz\n",
            "Downloading http://fashion-mnist.s3-website.eu-central-1.amazonaws.com/train-labels-idx1-ubyte.gz to dataset/FashionMNIST/raw/train-labels-idx1-ubyte.gz\n"
          ]
        },
        {
          "output_type": "stream",
          "name": "stderr",
          "text": [
            "100%|██████████| 29515/29515 [00:00<00:00, 212829.22it/s]\n"
          ]
        },
        {
          "output_type": "stream",
          "name": "stdout",
          "text": [
            "Extracting dataset/FashionMNIST/raw/train-labels-idx1-ubyte.gz to dataset/FashionMNIST/raw\n",
            "\n",
            "Downloading http://fashion-mnist.s3-website.eu-central-1.amazonaws.com/t10k-images-idx3-ubyte.gz\n",
            "Downloading http://fashion-mnist.s3-website.eu-central-1.amazonaws.com/t10k-images-idx3-ubyte.gz to dataset/FashionMNIST/raw/t10k-images-idx3-ubyte.gz\n"
          ]
        },
        {
          "output_type": "stream",
          "name": "stderr",
          "text": [
            "100%|██████████| 4422102/4422102 [00:01<00:00, 3920651.17it/s]\n"
          ]
        },
        {
          "output_type": "stream",
          "name": "stdout",
          "text": [
            "Extracting dataset/FashionMNIST/raw/t10k-images-idx3-ubyte.gz to dataset/FashionMNIST/raw\n",
            "\n",
            "Downloading http://fashion-mnist.s3-website.eu-central-1.amazonaws.com/t10k-labels-idx1-ubyte.gz\n",
            "Downloading http://fashion-mnist.s3-website.eu-central-1.amazonaws.com/t10k-labels-idx1-ubyte.gz to dataset/FashionMNIST/raw/t10k-labels-idx1-ubyte.gz\n"
          ]
        },
        {
          "output_type": "stream",
          "name": "stderr",
          "text": [
            "100%|██████████| 5148/5148 [00:00<00:00, 6065246.35it/s]"
          ]
        },
        {
          "output_type": "stream",
          "name": "stdout",
          "text": [
            "Extracting dataset/FashionMNIST/raw/t10k-labels-idx1-ubyte.gz to dataset/FashionMNIST/raw\n",
            "\n"
          ]
        },
        {
          "output_type": "stream",
          "name": "stderr",
          "text": [
            "\n"
          ]
        }
      ]
    },
    {
      "cell_type": "code",
      "source": [
        "fashion_datatest = datasets.FashionMNIST(\n",
        "    root='dataset',\n",
        "    download=True,\n",
        "    train=False,\n",
        "    transform=ToTensor(),\n",
        "    target_transform=None\n",
        ")"
      ],
      "metadata": {
        "id": "5L0CN_-0n1Xw"
      },
      "execution_count": 4,
      "outputs": []
    },
    {
      "cell_type": "code",
      "source": [
        "# Checking the classes\n",
        "class_names = fashion_dataset.classes\n",
        "print(class_names)\n",
        "print(fashion_dataset.class_to_idx)"
      ],
      "metadata": {
        "id": "B1MQBIQookNa",
        "outputId": "e27b36ad-a590-4ca3-9251-89d71c81f073",
        "colab": {
          "base_uri": "https://localhost:8080/"
        }
      },
      "execution_count": 5,
      "outputs": [
        {
          "output_type": "stream",
          "name": "stdout",
          "text": [
            "['T-shirt/top', 'Trouser', 'Pullover', 'Dress', 'Coat', 'Sandal', 'Shirt', 'Sneaker', 'Bag', 'Ankle boot']\n",
            "{'T-shirt/top': 0, 'Trouser': 1, 'Pullover': 2, 'Dress': 3, 'Coat': 4, 'Sandal': 5, 'Shirt': 6, 'Sneaker': 7, 'Bag': 8, 'Ankle boot': 9}\n"
          ]
        }
      ]
    },
    {
      "cell_type": "code",
      "source": [
        "# Checking the shape\n",
        "images = fashion_dataset.data\n",
        "targets = fashion_dataset.targets\n",
        "print(images.shape)\n",
        "print(targets.shape)"
      ],
      "metadata": {
        "id": "ThtAifPCpDgW",
        "outputId": "c6cfb593-87de-4d92-9476-7302e86426ec",
        "colab": {
          "base_uri": "https://localhost:8080/"
        }
      },
      "execution_count": 6,
      "outputs": [
        {
          "output_type": "stream",
          "name": "stdout",
          "text": [
            "torch.Size([60000, 28, 28])\n",
            "torch.Size([60000])\n"
          ]
        }
      ]
    },
    {
      "cell_type": "code",
      "source": [
        "# Image size\n",
        "print(images[0].shape)"
      ],
      "metadata": {
        "id": "2p-qqP0asaG8",
        "outputId": "77c02881-c4a9-463a-fb97-fc036599870f",
        "colab": {
          "base_uri": "https://localhost:8080/"
        }
      },
      "execution_count": 7,
      "outputs": [
        {
          "output_type": "stream",
          "name": "stdout",
          "text": [
            "torch.Size([28, 28])\n"
          ]
        }
      ]
    },
    {
      "cell_type": "markdown",
      "source": [
        "### 2. Image visualization"
      ],
      "metadata": {
        "id": "YvwFfCzntqAM"
      }
    },
    {
      "cell_type": "code",
      "source": [
        "# Extract images and labels\n",
        "images = fashion_dataset.data\n",
        "labels = fashion_dataset.targets"
      ],
      "metadata": {
        "id": "rds68zfzw5Hs"
      },
      "execution_count": 8,
      "outputs": []
    },
    {
      "cell_type": "code",
      "source": [
        "# Visualize using plt.imshow()\n",
        "index = torch.randint(0, 60000, dtype=torch.int, size=[1]).item()\n",
        "plt.imshow(X=images[index], cmap='gray')\n",
        "plt.title(class_names[labels[index]])"
      ],
      "metadata": {
        "id": "liU5XJLEuvvK",
        "outputId": "0ee8a730-fb1d-4a4b-80f9-e9c8af90250d",
        "colab": {
          "base_uri": "https://localhost:8080/",
          "height": 469
        }
      },
      "execution_count": 9,
      "outputs": [
        {
          "output_type": "execute_result",
          "data": {
            "text/plain": [
              "Text(0.5, 1.0, 'T-shirt/top')"
            ]
          },
          "metadata": {},
          "execution_count": 9
        },
        {
          "output_type": "display_data",
          "data": {
            "text/plain": [
              "<Figure size 640x480 with 1 Axes>"
            ],
            "image/png": "[encoded data removed]"
          },
          "metadata": {}
        }
      ]
    },
    {
      "cell_type": "markdown",
      "source": [
        "## Data preparation"
      ],
      "metadata": {
        "id": "R_k3OKravlbX"
      }
    },
    {
      "cell_type": "markdown",
      "source": [
        "### 1. DataLoader"
      ],
      "metadata": {
        "id": "8EFPbDPiVstF"
      }
    },
    {
      "cell_type": "markdown",
      "source": [
        "As of now, our data is a Pytorch dataset.\n",
        "A dataloader transform it into a Python iterable.\n",
        "We need to turn our data into batches (aka mini-batches)"
      ],
      "metadata": {
        "id": "HHySomlWW7T6"
      }
    },
    {
      "cell_type": "markdown",
      "source": [
        "### 2. Mini-batches"
      ],
      "metadata": {
        "id": "A2_lxIoQcB1f"
      }
    },
    {
      "cell_type": "markdown",
      "source": [
        "Reason for batches:\n",
        "+ Splitting up large dataset makes it more efficient to process\n",
        "+ batch size = how much data get processed at a time\n",
        "+ Gives model more time to update gradient per epoch"
      ],
      "metadata": {
        "id": "CzXz9ccncD3U"
      }
    },
    {
      "cell_type": "code",
      "source": [
        "from torch.utils.data import DataLoader\n",
        "\n",
        "BATCH_SIZE = 32\n",
        "\n",
        "train_dataloader = DataLoader(\n",
        "    dataset=fashion_dataset,\n",
        "    batch_size=BATCH_SIZE,\n",
        "    shuffle=True\n",
        ")\n",
        "\n",
        "test_dataloader = DataLoader(\n",
        "    dataset=fashion_datatest,\n",
        "    batch_size=BATCH_SIZE,\n",
        "    shuffle=True\n",
        ")\n",
        "\n",
        "train_dataloader, test_dataloader"
      ],
      "metadata": {
        "id": "dhmRARmZcEye",
        "outputId": "2ec2eb52-1f99-4c9d-df40-1939e4f8c098",
        "colab": {
          "base_uri": "https://localhost:8080/"
        }
      },
      "execution_count": 10,
      "outputs": [
        {
          "output_type": "execute_result",
          "data": {
            "text/plain": [
              "(<torch.utils.data.dataloader.DataLoader at 0x79c54dc44190>,\n",
              " <torch.utils.data.dataloader.DataLoader at 0x79c54dc44880>)"
            ]
          },
          "metadata": {},
          "execution_count": 10
        }
      ]
    },
    {
      "cell_type": "markdown",
      "source": [
        "## Building a Baseline Model"
      ],
      "metadata": {
        "id": "l10QAoDywb9D"
      }
    },
    {
      "cell_type": "code",
      "source": [
        "class FashionMnistModelv0(nn.Module):\n",
        "  def __init__(self, input_shape: int, hidden_units: int, output_shape: int):\n",
        "    super().__init__()\n",
        "    self.layer_stack = nn.Sequential(\n",
        "        nn.Flatten(),\n",
        "        nn.Linear(input_shape, hidden_units),\n",
        "        nn.ReLU(),\n",
        "        nn.Linear(hidden_units, output_shape),\n",
        "        nn.ReLU(),\n",
        "    )\n",
        "\n",
        "  def forward(self, x):\n",
        "    return self.layer_stack(x)"
      ],
      "metadata": {
        "id": "kObuxGOAyAXt"
      },
      "execution_count": 11,
      "outputs": []
    },
    {
      "cell_type": "code",
      "source": [
        "torch.manual_seed(42)\n",
        "model = FashionMnistModelv0(\n",
        "  input_shape=28*28,\n",
        "  hidden_units=10,\n",
        "  output_shape=len(class_names)\n",
        ")\n",
        "model"
      ],
      "metadata": {
        "id": "exUMrVoU0vV5",
        "outputId": "a649085b-144d-4abb-dae8-6c56c4068b2a",
        "colab": {
          "base_uri": "https://localhost:8080/"
        }
      },
      "execution_count": 12,
      "outputs": [
        {
          "output_type": "execute_result",
          "data": {
            "text/plain": [
              "FashionMnistModelv0(\n",
              "  (layer_stack): Sequential(\n",
              "    (0): Flatten(start_dim=1, end_dim=-1)\n",
              "    (1): Linear(in_features=784, out_features=10, bias=True)\n",
              "    (2): ReLU()\n",
              "    (3): Linear(in_features=10, out_features=10, bias=True)\n",
              "    (4): ReLU()\n",
              "  )\n",
              ")"
            ]
          },
          "metadata": {},
          "execution_count": 12
        }
      ]
    },
    {
      "cell_type": "markdown",
      "source": [
        "## Training Process"
      ],
      "metadata": {
        "id": "x46gczDQ1f0g"
      }
    },
    {
      "cell_type": "markdown",
      "source": [
        "### Loss functions and Optimizer\n",
        "\n",
        "Multi-class classification:\n",
        "+ Loss function: `nn.CrossEntropyLoss()`\n",
        "+ Optimizer: `torch.optim.SGD()` or `torch.optim.Adam()`\n",
        "+ Evaluation: Accuracy"
      ],
      "metadata": {
        "id": "AYu8M43bzMbN"
      }
    },
    {
      "cell_type": "code",
      "source": [
        "from helper_functions import accuracy_fn\n",
        "\n",
        "loss_fn = nn.CrossEntropyLoss()\n",
        "optimizer = torch.optim.SGD(model.parameters(), lr=0.01)"
      ],
      "metadata": {
        "id": "3g1ReWdFzQRM"
      },
      "execution_count": 30,
      "outputs": []
    },
    {
      "cell_type": "code",
      "source": [
        "training_losses = []\n",
        "testing_losses = []"
      ],
      "metadata": {
        "id": "pIosrBO02ZuT"
      },
      "execution_count": 41,
      "outputs": []
    },
    {
      "cell_type": "markdown",
      "source": [
        "### Training Loop"
      ],
      "metadata": {
        "id": "hPlv_vQN5siT"
      }
    },
    {
      "cell_type": "code",
      "source": [
        "device = 'cuda' if torch.cuda.is_available() else 'cpu'\n",
        "device"
      ],
      "metadata": {
        "id": "E-1oQtu4_bAS",
        "outputId": "db3df07b-6ff9-4876-8a8e-20a63440e517",
        "colab": {
          "base_uri": "https://localhost:8080/",
          "height": 36
        }
      },
      "execution_count": 42,
      "outputs": [
        {
          "output_type": "execute_result",
          "data": {
            "text/plain": [
              "'cuda'"
            ],
            "application/vnd.google.colaboratory.intrinsic+json": {
              "type": "string"
            }
          },
          "metadata": {},
          "execution_count": 42
        }
      ]
    },
    {
      "cell_type": "code",
      "source": [
        "# Setup progress bar\n",
        "from tqdm.auto import tqdm\n",
        "\n",
        "\n",
        "def train_step(model: torch.nn.Module,\n",
        "              dataloader: torch.utils.data.DataLoader,\n",
        "              loss_fn: torch.nn.Module,\n",
        "              optimizer: torch.optim.Optimizer):\n",
        "  train_loss, train_acc = 0, 0\n",
        "  model.train()\n",
        "  for batch, (X, y) in enumerate(dataloader):\n",
        "    X, y = X.to(device), y.to(device)\n",
        "    # Forward pass\n",
        "    y_pred = model(X)\n",
        "\n",
        "    # Calculate loss\n",
        "    loss = loss_fn(y_pred, y)\n",
        "    train_loss += loss.item()\n",
        "    train_acc += accuracy_fn(y_true=y, y_pred=y_pred.argmax(dim=1))\n",
        "\n",
        "    # Zero grad\n",
        "    optimizer.zero_grad()\n",
        "    # backward\n",
        "    loss.backward()\n",
        "    # Step\n",
        "    optimizer.step()\n",
        "\n",
        "  train_loss /= len(dataloader)\n",
        "  train_acc /= len(dataloader)\n",
        "  training_losses.append(train_loss)\n",
        "  print(f\"Train Loss: {train_loss:.5f} | Train Accuracy: {train_acc:.5f}\")\n",
        "\n",
        "\n",
        "def test_step(data_loader: torch.utils.data.DataLoader,\n",
        "              model: torch.nn.Module,\n",
        "              loss_fn: torch.nn.Module):\n",
        "    test_loss, test_acc = 0, 0\n",
        "    model.to(device)\n",
        "    model.eval() # put model in eval mode\n",
        "    # Turn on inference context manager\n",
        "    with torch.inference_mode():\n",
        "        for X, y in data_loader:\n",
        "            # Send data to GPU\n",
        "            X, y = X.to(device), y.to(device)\n",
        "\n",
        "            # 1. Forward pass\n",
        "            test_pred = model(X)\n",
        "\n",
        "            # 2. Calculate loss and accuracy\n",
        "            test_loss += loss_fn(test_pred, y)\n",
        "            test_acc += accuracy_fn(y_true=y,\n",
        "                y_pred=test_pred.argmax(dim=1) # Go from logits -> pred labels\n",
        "            )\n",
        "\n",
        "        # Adjust metrics and print out\n",
        "        test_loss /= len(data_loader)\n",
        "        test_acc /= len(data_loader)\n",
        "        testing_losses.append(test_loss)\n",
        "        print(f\"Test loss: {test_loss:.5f} | Test accuracy: {test_acc:.2f}%\\n\")"
      ],
      "metadata": {
        "id": "AldaNkuv5vju"
      },
      "execution_count": 43,
      "outputs": []
    },
    {
      "cell_type": "code",
      "source": [
        "torch.manual_seed(42)\n",
        "\n",
        "model.to(device)\n",
        "# Number of epochs\n",
        "epochs = 10\n",
        "eps = [x for x in range(1, epochs+1)]\n",
        "\n",
        "for epoch in tqdm(range(epochs)):\n",
        "    print(f\"Epoch: {epoch}\\n---------\")\n",
        "    train_step(dataloader=train_dataloader,\n",
        "        model=model,\n",
        "        loss_fn=loss_fn,\n",
        "        optimizer=optimizer\n",
        "    )\n",
        "    test_step(data_loader=test_dataloader,\n",
        "        model=model,\n",
        "        loss_fn=loss_fn\n",
        "    )"
      ],
      "metadata": {
        "id": "chErlX7E__uD",
        "outputId": "4c78ba99-d3eb-466c-d4e8-78fcd0126c97",
        "colab": {
          "base_uri": "https://localhost:8080/",
          "height": 917,
          "referenced_widgets": [
            "d6a2685a4402494db9f4c25bf1fd01ca",
            "7ebe12cd7667475492fe406bbd68b4cd",
            "869d1f0217544417a420a313695cbf8e",
            "5fb5425e4fa344688316bb07d80304bf",
            "8627842a6ab247ecaabb0422276fe529",
            "a47e8f3623954ec2a705178c4eb3d81d",
            "6e9b512970774369abd00a871e84146d",
            "f4fe146386ec4a7bb4bd01226a8c7032",
            "2eeb34c5d00148bf98c5ffeaa56732cc",
            "261dee8d8abf4c438ff454026963c34b",
            "11bf1bcd6cfb45e883c8ada8ca596c50"
          ]
        }
      },
      "execution_count": 44,
      "outputs": [
        {
          "output_type": "display_data",
          "data": {
            "text/plain": [
              "  0%|          | 0/10 [00:00<?, ?it/s]"
            ],
            "application/vnd.jupyter.widget-view+json": {
              "version_major": 2,
              "version_minor": 0,
              "model_id": "d6a2685a4402494db9f4c25bf1fd01ca"
            }
          },
          "metadata": {}
        },
        {
          "output_type": "stream",
          "name": "stdout",
          "text": [
            "Epoch: 0\n",
            "---------\n",
            "Train Loss: 0.81555 | Train Accuracy: 69.51167\n",
            "Test loss: 0.85292 | Test accuracy: 68.13%\n",
            "\n",
            "Epoch: 1\n",
            "---------\n",
            "Train Loss: 0.81314 | Train Accuracy: 69.62500\n",
            "Test loss: 0.85563 | Test accuracy: 68.04%\n",
            "\n",
            "Epoch: 2\n",
            "---------\n",
            "Train Loss: 0.81057 | Train Accuracy: 69.58167\n",
            "Test loss: 0.85608 | Test accuracy: 68.35%\n",
            "\n",
            "Epoch: 3\n",
            "---------\n",
            "Train Loss: 0.80883 | Train Accuracy: 69.63000\n",
            "Test loss: 0.84868 | Test accuracy: 68.13%\n",
            "\n",
            "Epoch: 4\n",
            "---------\n",
            "Train Loss: 0.80682 | Train Accuracy: 69.66500\n",
            "Test loss: 0.84659 | Test accuracy: 68.31%\n",
            "\n",
            "Epoch: 5\n",
            "---------\n",
            "Train Loss: 0.80418 | Train Accuracy: 69.79500\n",
            "Test loss: 0.84556 | Test accuracy: 68.38%\n",
            "\n",
            "Epoch: 6\n",
            "---------\n",
            "Train Loss: 0.80301 | Train Accuracy: 69.88333\n",
            "Test loss: 0.84517 | Test accuracy: 68.31%\n",
            "\n",
            "Epoch: 7\n",
            "---------\n",
            "Train Loss: 0.80163 | Train Accuracy: 69.86333\n",
            "Test loss: 0.86297 | Test accuracy: 67.85%\n",
            "\n",
            "Epoch: 8\n",
            "---------\n",
            "Train Loss: 0.80038 | Train Accuracy: 69.86167\n",
            "Test loss: 0.84098 | Test accuracy: 68.59%\n",
            "\n",
            "Epoch: 9\n",
            "---------\n",
            "Train Loss: 0.79841 | Train Accuracy: 69.92000\n",
            "Test loss: 0.84460 | Test accuracy: 68.35%\n",
            "\n"
          ]
        }
      ]
    },
    {
      "cell_type": "code",
      "source": [
        "# Visualize train and test losses\n",
        "\n",
        "x1 = [x for x in range(len(training_losses))]\n",
        "x2 = [x for x in range(len(testing_losses))]\n",
        "testing_losses = [loss.cpu().detach().numpy() for loss in testing_losses]\n",
        "\n",
        "plt.plot(x1, training_losses, label='Training Loss')\n",
        "plt.plot(x2, testing_losses, label='Testing Loss')\n",
        "plt.title('Training and Testing Loss')\n",
        "plt.xlabel('Epochs')\n",
        "plt.ylabel('Loss')\n",
        "plt.legend()"
      ],
      "metadata": {
        "id": "LdQ6gKbwEKdt",
        "outputId": "8252f44f-0b48-4a8b-a95b-df5def27e242",
        "colab": {
          "base_uri": "https://localhost:8080/",
          "height": 489
        }
      },
      "execution_count": 45,
      "outputs": [
        {
          "output_type": "execute_result",
          "data": {
            "text/plain": [
              "<matplotlib.legend.Legend at 0x79c520a46710>"
            ]
          },
          "metadata": {},
          "execution_count": 45
        },
        {
          "output_type": "display_data",
          "data": {
            "text/plain": [
              "<Figure size 640x480 with 1 Axes>"
            ],
            "image/png": "[encoded data removed]"
          },
          "metadata": {}
        }
      ]
    },
    {
      "cell_type": "code",
      "source": [
        "# Save the model"
      ],
      "metadata": {
        "id": "AlNECNbqFzJL"
      },
      "execution_count": null,
      "outputs": []
    }
  ],
  "metadata": {
    "language_info": {
      "name": "python"
    },
    "colab": {
      "provenance": [],
      "toc_visible": true,
      "gpuType": "T4",
      "include_colab_link": true
    },
    "kernelspec": {
      "name": "python3",
      "display_name": "Python 3"
    },
    "widgets": {
      "application/vnd.jupyter.widget-state+json": {
        "d6a2685a4402494db9f4c25bf1fd01ca": {
          "model_module": "@jupyter-widgets/controls",
          "model_name": "HBoxModel",
          "model_module_version": "1.5.0",
          "state": {
            "_dom_classes": [],
            "_model_module": "@jupyter-widgets/controls",
            "_model_module_version": "1.5.0",
            "_model_name": "HBoxModel",
            "_view_count": null,
            "_view_module": "@jupyter-widgets/controls",
            "_view_module_version": "1.5.0",
            "_view_name": "HBoxView",
            "box_style": "",
            "children": [
              "IPY_MODEL_7ebe12cd7667475492fe406bbd68b4cd",
              "IPY_MODEL_869d1f0217544417a420a313695cbf8e",
              "IPY_MODEL_5fb5425e4fa344688316bb07d80304bf"
            ],
            "layout": "IPY_MODEL_8627842a6ab247ecaabb0422276fe529"
          }
        },
        "7ebe12cd7667475492fe406bbd68b4cd": {
          "model_module": "@jupyter-widgets/controls",
          "model_name": "HTMLModel",
          "model_module_version": "1.5.0",
          "state": {
            "_dom_classes": [],
            "_model_module": "@jupyter-widgets/controls",
            "_model_module_version": "1.5.0",
            "_model_name": "HTMLModel",
            "_view_count": null,
            "_view_module": "@jupyter-widgets/controls",
            "_view_module_version": "1.5.0",
            "_view_name": "HTMLView",
            "description": "",
            "description_tooltip": null,
            "layout": "IPY_MODEL_a47e8f3623954ec2a705178c4eb3d81d",
            "placeholder": "​",
            "style": "IPY_MODEL_6e9b512970774369abd00a871e84146d",
            "value": "100%"
          }
        },
        "869d1f0217544417a420a313695cbf8e": {
          "model_module": "@jupyter-widgets/controls",
          "model_name": "FloatProgressModel",
          "model_module_version": "1.5.0",
          "state": {
            "_dom_classes": [],
            "_model_module": "@jupyter-widgets/controls",
            "_model_module_version": "1.5.0",
            "_model_name": "FloatProgressModel",
            "_view_count": null,
            "_view_module": "@jupyter-widgets/controls",
            "_view_module_version": "1.5.0",
            "_view_name": "ProgressView",
            "bar_style": "success",
            "description": "",
            "description_tooltip": null,
            "layout": "IPY_MODEL_f4fe146386ec4a7bb4bd01226a8c7032",
            "max": 10,
            "min": 0,
            "orientation": "horizontal",
            "style": "IPY_MODEL_2eeb34c5d00148bf98c5ffeaa56732cc",
            "value": 10
          }
        },
        "5fb5425e4fa344688316bb07d80304bf": {
          "model_module": "@jupyter-widgets/controls",
          "model_name": "HTMLModel",
          "model_module_version": "1.5.0",
          "state": {
            "_dom_classes": [],
            "_model_module": "@jupyter-widgets/controls",
            "_model_module_version": "1.5.0",
            "_model_name": "HTMLModel",
            "_view_count": null,
            "_view_module": "@jupyter-widgets/controls",
            "_view_module_version": "1.5.0",
            "_view_name": "HTMLView",
            "description": "",
            "description_tooltip": null,
            "layout": "IPY_MODEL_261dee8d8abf4c438ff454026963c34b",
            "placeholder": "​",
            "style": "IPY_MODEL_11bf1bcd6cfb45e883c8ada8ca596c50",
            "value": " 10/10 [01:38&lt;00:00,  9.88s/it]"
          }
        },
        "8627842a6ab247ecaabb0422276fe529": {
          "model_module": "@jupyter-widgets/base",
          "model_name": "LayoutModel",
          "model_module_version": "1.2.0",
          "state": {
            "_model_module": "@jupyter-widgets/base",
            "_model_module_version": "1.2.0",
            "_model_name": "LayoutModel",
            "_view_count": null,
            "_view_module": "@jupyter-widgets/base",
            "_view_module_version": "1.2.0",
            "_view_name": "LayoutView",
            "align_content": null,
            "align_items": null,
            "align_self": null,
            "border": null,
            "bottom": null,
            "display": null,
            "flex": null,
            "flex_flow": null,
            "grid_area": null,
            "grid_auto_columns": null,
            "grid_auto_flow": null,
            "grid_auto_rows": null,
            "grid_column": null,
            "grid_gap": null,
            "grid_row": null,
            "grid_template_areas": null,
            "grid_template_columns": null,
            "grid_template_rows": null,
            "height": null,
            "justify_content": null,
            "justify_items": null,
            "left": null,
            "margin": null,
            "max_height": null,
            "max_width": null,
            "min_height": null,
            "min_width": null,
            "object_fit": null,
            "object_position": null,
            "order": null,
            "overflow": null,
            "overflow_x": null,
            "overflow_y": null,
            "padding": null,
            "right": null,
            "top": null,
            "visibility": null,
            "width": null
          }
        },
        "a47e8f3623954ec2a705178c4eb3d81d": {
          "model_module": "@jupyter-widgets/base",
          "model_name": "LayoutModel",
          "model_module_version": "1.2.0",
          "state": {
            "_model_module": "@jupyter-widgets/base",
            "_model_module_version": "1.2.0",
            "_model_name": "LayoutModel",
            "_view_count": null,
            "_view_module": "@jupyter-widgets/base",
            "_view_module_version": "1.2.0",
            "_view_name": "LayoutView",
            "align_content": null,
            "align_items": null,
            "align_self": null,
            "border": null,
            "bottom": null,
            "display": null,
            "flex": null,
            "flex_flow": null,
            "grid_area": null,
            "grid_auto_columns": null,
            "grid_auto_flow": null,
            "grid_auto_rows": null,
            "grid_column": null,
            "grid_gap": null,
            "grid_row": null,
            "grid_template_areas": null,
            "grid_template_columns": null,
            "grid_template_rows": null,
            "height": null,
            "justify_content": null,
            "justify_items": null,
            "left": null,
            "margin": null,
            "max_height": null,
            "max_width": null,
            "min_height": null,
            "min_width": null,
            "object_fit": null,
            "object_position": null,
            "order": null,
            "overflow": null,
            "overflow_x": null,
            "overflow_y": null,
            "padding": null,
            "right": null,
            "top": null,
            "visibility": null,
            "width": null
          }
        },
        "6e9b512970774369abd00a871e84146d": {
          "model_module": "@jupyter-widgets/controls",
          "model_name": "DescriptionStyleModel",
          "model_module_version": "1.5.0",
          "state": {
            "_model_module": "@jupyter-widgets/controls",
            "_model_module_version": "1.5.0",
            "_model_name": "DescriptionStyleModel",
            "_view_count": null,
            "_view_module": "@jupyter-widgets/base",
            "_view_module_version": "1.2.0",
            "_view_name": "StyleView",
            "description_width": ""
          }
        },
        "f4fe146386ec4a7bb4bd01226a8c7032": {
          "model_module": "@jupyter-widgets/base",
          "model_name": "LayoutModel",
          "model_module_version": "1.2.0",
          "state": {
            "_model_module": "@jupyter-widgets/base",
            "_model_module_version": "1.2.0",
            "_model_name": "LayoutModel",
            "_view_count": null,
            "_view_module": "@jupyter-widgets/base",
            "_view_module_version": "1.2.0",
            "_view_name": "LayoutView",
            "align_content": null,
            "align_items": null,
            "align_self": null,
            "border": null,
            "bottom": null,
            "display": null,
            "flex": null,
            "flex_flow": null,
            "grid_area": null,
            "grid_auto_columns": null,
            "grid_auto_flow": null,
            "grid_auto_rows": null,
            "grid_column": null,
            "grid_gap": null,
            "grid_row": null,
            "grid_template_areas": null,
            "grid_template_columns": null,
            "grid_template_rows": null,
            "height": null,
            "justify_content": null,
            "justify_items": null,
            "left": null,
            "margin": null,
            "max_height": null,
            "max_width": null,
            "min_height": null,
            "min_width": null,
            "object_fit": null,
            "object_position": null,
            "order": null,
            "overflow": null,
            "overflow_x": null,
            "overflow_y": null,
            "padding": null,
            "right": null,
            "top": null,
            "visibility": null,
            "width": null
          }
        },
        "2eeb34c5d00148bf98c5ffeaa56732cc": {
          "model_module": "@jupyter-widgets/controls",
          "model_name": "ProgressStyleModel",
          "model_module_version": "1.5.0",
          "state": {
            "_model_module": "@jupyter-widgets/controls",
            "_model_module_version": "1.5.0",
            "_model_name": "ProgressStyleModel",
            "_view_count": null,
            "_view_module": "@jupyter-widgets/base",
            "_view_module_version": "1.2.0",
            "_view_name": "StyleView",
            "bar_color": null,
            "description_width": ""
          }
        },
        "261dee8d8abf4c438ff454026963c34b": {
          "model_module": "@jupyter-widgets/base",
          "model_name": "LayoutModel",
          "model_module_version": "1.2.0",
          "state": {
            "_model_module": "@jupyter-widgets/base",
            "_model_module_version": "1.2.0",
            "_model_name": "LayoutModel",
            "_view_count": null,
            "_view_module": "@jupyter-widgets/base",
            "_view_module_version": "1.2.0",
            "_view_name": "LayoutView",
            "align_content": null,
            "align_items": null,
            "align_self": null,
            "border": null,
            "bottom": null,
            "display": null,
            "flex": null,
            "flex_flow": null,
            "grid_area": null,
            "grid_auto_columns": null,
            "grid_auto_flow": null,
            "grid_auto_rows": null,
            "grid_column": null,
            "grid_gap": null,
            "grid_row": null,
            "grid_template_areas": null,
            "grid_template_columns": null,
            "grid_template_rows": null,
            "height": null,
            "justify_content": null,
            "justify_items": null,
            "left": null,
            "margin": null,
            "max_height": null,
            "max_width": null,
            "min_height": null,
            "min_width": null,
            "object_fit": null,
            "object_position": null,
            "order": null,
            "overflow": null,
            "overflow_x": null,
            "overflow_y": null,
            "padding": null,
            "right": null,
            "top": null,
            "visibility": null,
            "width": null
          }
        },
        "11bf1bcd6cfb45e883c8ada8ca596c50": {
          "model_module": "@jupyter-widgets/controls",
          "model_name": "DescriptionStyleModel",
          "model_module_version": "1.5.0",
          "state": {
            "_model_module": "@jupyter-widgets/controls",
            "_model_module_version": "1.5.0",
            "_model_name": "DescriptionStyleModel",
            "_view_count": null,
            "_view_module": "@jupyter-widgets/base",
            "_view_module_version": "1.2.0",
            "_view_name": "StyleView",
            "description_width": ""
          }
        }
      }
    },
    "accelerator": "GPU"
  },
  "nbformat": 4,
  "nbformat_minor": 0
}