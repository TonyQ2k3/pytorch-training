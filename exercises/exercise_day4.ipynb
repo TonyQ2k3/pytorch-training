{
  "cells": [
    {
      "cell_type": "markdown",
      "metadata": {
        "id": "view-in-github",
        "colab_type": "text"
      },
      "source": [
        "<a href=\"https://colab.research.google.com/github/TonyQ2k3/pytorch-training/blob/main/exercises/exercise_day4.ipynb\" target=\"_parent\"><img src=\"https://colab.research.google.com/assets/colab-badge.svg\" alt=\"Open In Colab\"/></a>"
      ]
    },
    {
      "cell_type": "markdown",
      "metadata": {
        "id": "KuxO_aHt9jzL"
      },
      "source": [
        "# Exercise - Day 4"
      ]
    },
    {
      "cell_type": "code",
      "source": [
        "import torch\n",
        "from torch import nn\n",
        "import matplotlib.pyplot as plt\n",
        "from sklearn.model_selection import train_test_split"
      ],
      "metadata": {
        "id": "kfnXVov49kZ1"
      },
      "execution_count": 13,
      "outputs": []
    },
    {
      "cell_type": "code",
      "source": [
        "# Download helper function\n",
        "import requests\n",
        "from pathlib import Path\n",
        "\n",
        "if Path(\"helper_functions.py\").is_file() is not True:\n",
        "  request = requests.get(\"https://raw.githubusercontent.com/mrdbourke/pytorch-deep-learning/main/helper_functions.py\")\n",
        "  with open(\"helper_functions.py\", \"wb\") as f:\n",
        "    f.write(request.content)"
      ],
      "metadata": {
        "id": "ExNh-idbAsPc"
      },
      "execution_count": 73,
      "outputs": []
    },
    {
      "cell_type": "code",
      "source": [
        "weight = 0.7\n",
        "bias = 0.3\n",
        "x = torch.arange(0, 1, 0.02, dtype=torch.float).unsqueeze(1)\n",
        "y = weight * x + bias"
      ],
      "metadata": {
        "id": "43uoyhsO9xDG"
      },
      "execution_count": 101,
      "outputs": []
    },
    {
      "cell_type": "code",
      "source": [
        "# Creating datasets\n",
        "split = int(0.8 * len(x))\n",
        "x_train, y_train = x[:split], y[:split]\n",
        "x_test, y_test = x[split:], y[split:]\n",
        "print(x_train.shape)\n",
        "print(y_train.shape)"
      ],
      "metadata": {
        "id": "zWq7k80u_jNS",
        "outputId": "a576313e-e031-4856-87a6-2b4f423253fb",
        "colab": {
          "base_uri": "https://localhost:8080/"
        }
      },
      "execution_count": 102,
      "outputs": [
        {
          "output_type": "stream",
          "name": "stdout",
          "text": [
            "torch.Size([40, 1])\n",
            "torch.Size([40, 1])\n"
          ]
        }
      ]
    },
    {
      "cell_type": "code",
      "source": [
        "regression_model = nn.Sequential(\n",
        "    nn.Linear(1, 10),\n",
        "    nn.Linear(10, 10),\n",
        "    nn.Linear(10, 1)\n",
        ")\n",
        "loss_fn = nn.L1Loss()\n",
        "optimizer = torch.optim.SGD(regression_model.parameters(), lr=0.01)\n",
        "epochs = 1000"
      ],
      "metadata": {
        "id": "-e12QSwgABiT"
      },
      "execution_count": 112,
      "outputs": []
    },
    {
      "cell_type": "code",
      "source": [
        "def train_model(model, train_l, test_l):\n",
        "  for epoch in range(epochs):\n",
        "    model.train()\n",
        "\n",
        "    y_logits = model(x_train)\n",
        "    loss = loss_fn(y_logits, y_train)\n",
        "\n",
        "    optimizer.zero_grad()\n",
        "    loss.backward()\n",
        "    optimizer.step()\n",
        "\n",
        "    model.eval()\n",
        "    with torch.inference_mode():\n",
        "      test_logits = model(x_test)\n",
        "      test_loss = loss_fn(test_logits, y_test)\n",
        "\n",
        "    if epoch % 100 == 0:\n",
        "      train_l.append(loss.item())\n",
        "      test_l.append(test_loss.item())\n",
        "      print(f\"Epoch: {epoch} | Loss: {loss} | Test Loss: {test_loss}\")"
      ],
      "metadata": {
        "id": "AeU4W5VyAYSY"
      },
      "execution_count": 94,
      "outputs": []
    },
    {
      "cell_type": "code",
      "source": [
        "train_losses = []\n",
        "test_losses = []"
      ],
      "metadata": {
        "id": "fMpLnQQGA7e0"
      },
      "execution_count": 113,
      "outputs": []
    },
    {
      "cell_type": "code",
      "source": [
        "train_model(regression_model, train_losses, test_losses)"
      ],
      "metadata": {
        "id": "zpfSlO71BtGo",
        "outputId": "268e0d12-582e-4891-ced9-4ae915470332",
        "colab": {
          "base_uri": "https://localhost:8080/"
        }
      },
      "execution_count": 114,
      "outputs": [
        {
          "output_type": "stream",
          "name": "stdout",
          "text": [
            "Epoch: 0 | Loss: 0.5901962518692017 | Test Loss: 0.8452304601669312\n",
            "Epoch: 100 | Loss: 0.018779147416353226 | Test Loss: 0.04229648783802986\n",
            "Epoch: 200 | Loss: 0.013728332705795765 | Test Loss: 0.050052594393491745\n",
            "Epoch: 300 | Loss: 0.016098536550998688 | Test Loss: 0.04824785143136978\n",
            "Epoch: 400 | Loss: 0.0135745108127594 | Test Loss: 0.05115106701850891\n",
            "Epoch: 500 | Loss: 0.014682170934975147 | Test Loss: 0.04936503618955612\n",
            "Epoch: 600 | Loss: 0.01689150743186474 | Test Loss: 0.050721485167741776\n",
            "Epoch: 700 | Loss: 0.016322579234838486 | Test Loss: 0.05084938555955887\n",
            "Epoch: 800 | Loss: 0.015791866928339005 | Test Loss: 0.047990769147872925\n",
            "Epoch: 900 | Loss: 0.01590033806860447 | Test Loss: 0.04967101663351059\n"
          ]
        }
      ]
    },
    {
      "cell_type": "code",
      "source": [
        "eps = [x for x in range(epochs//100)]\n",
        "plt.figure(figsize=(6, 4))\n",
        "plt.plot(eps, train_losses, label=\"Train Loss\")\n",
        "plt.plot(eps, test_losses, label=\"Test Loss\")\n",
        "plt.xlabel(\"Epochs\")\n",
        "plt.ylabel(\"Loss\")\n",
        "plt.legend()\n",
        "plt.show()"
      ],
      "metadata": {
        "id": "85VmfaA-HUhk",
        "outputId": "9c5c680f-402a-48c3-d5cf-f789238827e0",
        "colab": {
          "base_uri": "https://localhost:8080/",
          "height": 388
        }
      },
      "execution_count": 115,
      "outputs": [
        {
          "output_type": "display_data",
          "data": {
            "text/plain": [
              "<Figure size 600x400 with 1 Axes>"
            ],
            "image/png": "[encoded data removed]"
          },
          "metadata": {}
        }
      ]
    },
    {
      "cell_type": "code",
      "source": [
        "plt.figure(figsize=(6, 4))\n",
        "plt.scatter(x_train, y_train, c='b', s=4, label=\"Train Data\")\n",
        "plt.scatter(x_test, y_test, c='g', s=4, label=\"Test Data\")\n",
        "with torch.inference_mode():\n",
        "  y_preds = regression_model(x_test)\n",
        "plt.scatter(x_test, y_preds, c ='r', s=4, label=\"Model Predictions\")\n",
        "plt.legend()\n",
        "plt.show()"
      ],
      "metadata": {
        "id": "ELxVUg27H1HF",
        "outputId": "5fbba146-00c5-451c-a9f7-e07ac414727d",
        "colab": {
          "base_uri": "https://localhost:8080/",
          "height": 368
        }
      },
      "execution_count": 116,
      "outputs": [
        {
          "output_type": "display_data",
          "data": {
            "text/plain": [
              "<Figure size 600x400 with 1 Axes>"
            ],
            "image/png": "[encoded data removed]"
          },
          "metadata": {}
        }
      ]
    },
    {
      "cell_type": "code",
      "source": [],
      "metadata": {
        "id": "cRjoppx3KG6k"
      },
      "execution_count": null,
      "outputs": []
    }
  ],
  "metadata": {
    "language_info": {
      "name": "python"
    },
    "colab": {
      "provenance": [],
      "include_colab_link": true
    },
    "kernelspec": {
      "name": "python3",
      "display_name": "Python 3"
    }
  },
  "nbformat": 4,
  "nbformat_minor": 0
}